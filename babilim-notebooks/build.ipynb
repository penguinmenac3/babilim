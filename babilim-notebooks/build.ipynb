{
 "cells": [
  {
   "cell_type": "markdown",
   "metadata": {},
   "source": [
    "# Build Instruction\n",
    "\n",
    "> Instructions on building babilim. Use the build notebook for that."
   ]
  },
  {
   "cell_type": "markdown",
   "metadata": {},
   "source": [
    "## Build babilim from notebooks\n",
    "\n",
    "Simply run the cell below to build babilim and the docs from the notebooks."
   ]
  },
  {
   "cell_type": "code",
   "execution_count": 1,
   "metadata": {},
   "outputs": [
    {
     "name": "stdout",
     "output_type": "stream",
     "text": [
      "Converted build.ipynb.\n",
      "Converted core_annotations.ipynb.\n",
      "Converted core_config.ipynb.\n",
      "Converted core_gradient_tape.ipynb.\n",
      "Converted core_itensor.ipynb.\n",
      "Converted core_logger.ipynb.\n",
      "Converted index.ipynb.\n",
      "Converted model_module.ipynb.\n"
     ]
    }
   ],
   "source": [
    "from nbdev.export2html import notebook2script, notebook2html\n",
    "from nbdev.cli import make_sidebar, make_readme\n",
    "notebook2script()\n",
    "notebook2html()\n",
    "make_sidebar()\n",
    "make_readme()"
   ]
  },
  {
   "cell_type": "markdown",
   "metadata": {},
   "source": [
    "## Update notebooks from modified source\n",
    "\n",
    "If you modified the auto generated source code and want to update the notebooks accordingly, use the following cell.\n",
    "\n",
    "This might be very usefull for refactor -> rename."
   ]
  },
  {
   "cell_type": "code",
   "execution_count": 1,
   "metadata": {},
   "outputs": [],
   "source": [
    "from nbdev.sync import script2notebook\n",
    "from nbdev.export2html import notebook2script, notebook2html\n",
    "from nbdev.cli import make_sidebar, make_readme\n",
    "script2notebook()"
   ]
  },
  {
   "cell_type": "code",
   "execution_count": null,
   "metadata": {},
   "outputs": [],
   "source": []
  }
 ],
 "metadata": {
  "kernelspec": {
   "display_name": "kia",
   "language": "python",
   "name": "kia"
  },
  "language_info": {
   "codemirror_mode": {
    "name": "ipython",
    "version": 3
   },
   "file_extension": ".py",
   "mimetype": "text/x-python",
   "name": "python",
   "nbconvert_exporter": "python",
   "pygments_lexer": "ipython3",
   "version": "3.7.7"
  }
 },
 "nbformat": 4,
 "nbformat_minor": 4
}

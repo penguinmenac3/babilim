{
 "cells": [
  {
   "cell_type": "code",
   "execution_count": 2,
   "metadata": {},
   "outputs": [],
   "source": [
    "# default_exp core.annotations"
   ]
  },
  {
   "cell_type": "markdown",
   "metadata": {},
   "source": [
    "# babilim.core.annotations\n",
    "\n",
    "> A collection of helpful annotations.\n",
    "\n",
    "This code is under the MIT License and requires the abc package."
   ]
  },
  {
   "cell_type": "code",
   "execution_count": 3,
   "metadata": {},
   "outputs": [],
   "source": [
    "# export\n",
    "# MIT License\n",
    "#\n",
    "# Copyright (c) 2019 Michael Fuerst\n",
    "#\n",
    "# Permission is hereby granted, free of charge, to any person obtaining a copy\n",
    "# of this software and associated documentation files (the \"Software\"), to deal\n",
    "# in the Software without restriction, including without limitation the rights\n",
    "# to use, copy, modify, merge, publish, distribute, sublicense, and/or sell\n",
    "# copies of the Software, and to permit persons to whom the Software is\n",
    "# furnished to do so, subject to the following conditions:\n",
    "#\n",
    "# The above copyright notice and this permission notice shall be included in all\n",
    "# copies or substantial portions of the Software.\n",
    "#\n",
    "# THE SOFTWARE IS PROVIDED \"AS IS\", WITHOUT WARRANTY OF ANY KIND, EXPRESS OR\n",
    "# IMPLIED, INCLUDING BUT NOT LIMITED TO THE WARRANTIES OF MERCHANTABILITY,\n",
    "# FITNESS FOR A PARTICULAR PURPOSE AND NONINFRINGEMENT. IN NO EVENT SHALL THE\n",
    "# AUTHORS OR COPYRIGHT HOLDERS BE LIABLE FOR ANY CLAIM, DAMAGES OR OTHER\n",
    "# LIABILITY, WHETHER IN AN ACTION OF CONTRACT, TORT OR OTHERWISE, ARISING FROM,\n",
    "# OUT OF OR IN CONNECTION WITH THE SOFTWARE OR THE USE OR OTHER DEALINGS IN THE\n",
    "# SOFTWARE.\n",
    "\n",
    "from abc import ABC, abstractmethod"
   ]
  },
  {
   "cell_type": "markdown",
   "metadata": {},
   "source": [
    "#hide\n",
    "\n",
    "# Class Decorator\n"
   ]
  },
  {
   "cell_type": "code",
   "execution_count": 4,
   "metadata": {},
   "outputs": [],
   "source": [
    "# export\n",
    "class ClassDecorator(ABC):\n",
    "    def __get__(self, obj, objtype):\n",
    "        \"\"\"\n",
    "        A class decorator is a base class that is used for all annotations that should be usable with python classes.\n",
    "        Regular annotations will not work with classes.\n",
    "\n",
    "        This is a helper class that can be used when writing annotations.\n",
    "        \"\"\"\n",
    "        import functools\n",
    "        return functools.partial(self.__call__, obj)\n",
    "\n",
    "    @abstractmethod\n",
    "    def __call__(self, *args, **kwargs):\n",
    "        pass"
   ]
  },
  {
   "cell_type": "markdown",
   "metadata": {},
   "source": [
    "#hide\n",
    "\n",
    "## RunOnlyOnce"
   ]
  },
  {
   "cell_type": "code",
   "execution_count": 5,
   "metadata": {},
   "outputs": [],
   "source": [
    "# export\n",
    "class RunOnlyOnce(ClassDecorator):\n",
    "    def __init__(self, f):\n",
    "        \"\"\"\n",
    "        A decorator that ensures a function in an object gets only called exactly once.\n",
    "\n",
    "        :param f: The function that should be wrapped.\n",
    "        \"\"\"\n",
    "        self.f = f\n",
    "        self.called = {}\n",
    "\n",
    "    def __call__(self, *args, **kwargs):\n",
    "        if args[0] not in self.called:\n",
    "            self.called[args[0]] = True\n",
    "            self.f(*args, **kwargs)"
   ]
  },
  {
   "cell_type": "markdown",
   "metadata": {},
   "source": [
    "The run only once annotation is fundamental for the build function pattern, whereas it allows to write a function which is only called once, no matter how often it gets called. This behaviour is very usefull for creating variables on the GPU only once in the build and not on every run of the neural network.\n",
    "\n",
    "> Important: This is for use with the build function in a module. Ensuring it only gets called once and does not eat memory on the gpu.\n",
    "\n",
    "Using this in an example function which prints the parameter only yields on printout, even though the function gets called multiple times."
   ]
  },
  {
   "cell_type": "code",
   "execution_count": 7,
   "metadata": {},
   "outputs": [
    {
     "name": "stdout",
     "output_type": "stream",
     "text": [
      "Foo\n"
     ]
    }
   ],
   "source": [
    "@RunOnlyOnce\n",
    "def test_fun(msg):\n",
    "    print(msg)\n",
    "    \n",
    "test_fun(\"Foo\")\n",
    "test_fun(\"Foo\")\n",
    "test_fun(\"Foo\")\n",
    "test_fun(\"Foo\")\n",
    "test_fun(\"Foo\")\n"
   ]
  },
  {
   "cell_type": "markdown",
   "metadata": {},
   "source": [
    "#hide\n",
    "\n",
    "## Extend Class"
   ]
  },
  {
   "cell_type": "code",
   "execution_count": 2,
   "metadata": {},
   "outputs": [],
   "source": [
    "#export\n",
    "def extend_class(clazz, function_name):\n",
    "    \"\"\"\n",
    "    Extend a class by the function decorated with this decorator.\n",
    "    \n",
    "    :param clazz: The class that should be decorated.\n",
    "    :param function_name: The name that the function in the class should have. (Can be different than unbound name of the class.)\n",
    "    \"\"\"\n",
    "    def wrapper(func):\n",
    "        setattr(clazz, function_name, func)\n",
    "        return func\n",
    "    return wrapper"
   ]
  },
  {
   "cell_type": "markdown",
   "metadata": {},
   "source": [
    "This annotation can be used for developing code in a jupyter notebook. It allows you to define a class in separate cells, like the following example. This gives you the exploratory capabilities of jupyter while developing a class that can be later exported (using nbdev) and used in production."
   ]
  },
  {
   "cell_type": "code",
   "execution_count": 3,
   "metadata": {},
   "outputs": [
    {
     "name": "stdout",
     "output_type": "stream",
     "text": [
      "self.my_var=42\n",
      "name=Hello\n",
      "Hello\n"
     ]
    }
   ],
   "source": [
    "# first cell\n",
    "class TestClass(object):\n",
    "    def __init__(self, var):\n",
    "        self.my_var = var\n",
    "        \n",
    "# later cell\n",
    "test = TestClass(42)\n",
    "        \n",
    "# again later cell\n",
    "@extend_class(TestClass, \"foo\")\n",
    "def __foo(self, name):\n",
    "    print(\"self.my_var={}\".format(self.my_var))\n",
    "    print(\"name={}\".format(name))\n",
    "    self.name = name\n",
    "\n",
    "# and again later cell\n",
    "test.foo(name=\"Hello\")\n",
    "print(test.name)"
   ]
  }
 ],
 "metadata": {
  "kernelspec": {
   "display_name": "pytorch",
   "language": "python",
   "name": "pytorch"
  },
  "language_info": {
   "codemirror_mode": {
    "name": "ipython",
    "version": 3
   },
   "file_extension": ".py",
   "mimetype": "text/x-python",
   "name": "python",
   "nbconvert_exporter": "python",
   "pygments_lexer": "ipython3",
   "version": "3.6.8"
  }
 },
 "nbformat": 4,
 "nbformat_minor": 4
}

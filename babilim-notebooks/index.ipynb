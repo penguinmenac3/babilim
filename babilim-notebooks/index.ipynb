{
 "cells": [
  {
   "cell_type": "markdown",
   "metadata": {},
   "source": [
    "# Babilim\n",
    "\n",
    "> An attepmt to make a keras like framework for pytorch and tensorflow."
   ]
  },
  {
   "cell_type": "markdown",
   "metadata": {},
   "source": [
    "Read the [Documentation](https://penguinmenac3.github.io/babilim/index.html).\n",
    "\n",
    "## What is Babilim?\n",
    "\n",
    "Babilim is a Deep Learning Framework designed for ease of use like Keras. The API is designed to be intuitive and easy while allowing for complex production or research models. On top of that babilim runs on top of Tensorflow 2 or Pytorch, whichever you prefer. Seamless integration with TF2 and Pytorch was a top priority.\n",
    "\n",
    "Babilim is designed for:\n",
    "* Intuitive usage,\n",
    "* a unified development experience across pytorch and tf2,\n",
    "* flexibility for research and robustness for production.\n",
    "\n",
    "## Install\n",
    "\n",
    "Follow the official instructions [here](https://pytorch.org/get-started/locally/) to install pytorch or [here](https://www.tensorflow.org/install) to install tensorflow 2.\n",
    "\n",
    "```\n",
    "# Stable Version\n",
    "pip install babilim\n",
    "\n",
    "# Bleeding Edge\n",
    "pip install git+https://github.com/penguinmenac3/babilim.git\n",
    "```\n",
    "\n",
    "## Selecting your Backend\n",
    "\n",
    "Since babilim is designed for multiple backends (tensorflow 2 and pytorch), it gives you the choice which should be used. When your company/university uses one of the two frameworks you are fine to use or you can follow your personal preference for private projects.\n",
    "\n",
    "```python\n",
    "import babilim\n",
    "babilim.set_backend(babilim.PYTORCH_BACKEND)\n",
    "# or\n",
    "babilim.set_backend(babilim.TF_BACKEND)\n",
    "```\n",
    "\n",
    "## Design Principles\n",
    "\n",
    "Everything is attributed to one of three parts: Data, Model or Training. Some parts which are considered core functionality that is shared among them is in the core package.\n",
    "\n",
    "* **Data** is concerned about loading and preprocessing the data for training, evaluation and deployment.\n",
    "* **Model** is concerned with implementing the model. Everything required for the forward pass of the model is here.\n",
    "* **Training** contains all required for training a model on data. This includes loss, metrics, optimizers and trainers.\n",
    "\n",
    "## Tutorials & Examples\n",
    "\n",
    "Starting with tutorials is usually easiest.\n",
    "The tutorials do not focus on the shortest possible solution, but actually an overkill solution that shows as much as you would need to know for solving your own problem.\n",
    "\n",
    "* [Fashion MNIST in Babilim](https://github.com/penguinmenac3/babilim/blob/master/examples/fashion_mnist.ipynb)\n",
    "* Fashion MNIST with native pytorch [TODO]\n",
    "* Fashion MNIST with native tensorflow 2 [TODO]\n",
    "\n",
    "## Contributing\n",
    "\n",
    "Currently there are no guidelines on how to contribute, so the best thing you can do is open up an issue and get in contact that way.\n",
    "In the issue we can discuss how you can implement your new feature or how to fix that nasty bug.\n",
    "\n",
    "## Why called babilim?\n",
    "\n",
    "**TL;DR** Reference to Tower of Babel.\n",
    "\n",
    "The Tower of Babel narrative in Genesis 11:1-9 is a myth about mankind building a tower that could reach into the heavens.\n",
    "However, the attempt gets set back and fails because they started speaking different languages and were no longer able to understand each other.\n",
    "\n",
    "Luckily for AI development there are only two major frameworks which share nearly all market share.\n",
    "Babilim is an attempt to unite the two to talk in a language compatible with both."
   ]
  },
  {
   "cell_type": "code",
   "execution_count": null,
   "metadata": {},
   "outputs": [],
   "source": []
  }
 ],
 "metadata": {
  "kernelspec": {
   "display_name": "Python (pytorch)",
   "language": "python",
   "name": "pytorch"
  },
  "language_info": {
   "codemirror_mode": {
    "name": "ipython",
    "version": 3
   },
   "file_extension": ".py",
   "mimetype": "text/x-python",
   "name": "python",
   "nbconvert_exporter": "python",
   "pygments_lexer": "ipython3",
   "version": "3.6.9"
  }
 },
 "nbformat": 4,
 "nbformat_minor": 4
}

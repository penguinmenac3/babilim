{
 "cells": [
  {
   "cell_type": "markdown",
   "metadata": {},
   "source": [
    "# Babilim\n",
    "\n",
    "> An attepmt to make a keras like framework for pytorch and tensorflow."
   ]
  },
  {
   "cell_type": "markdown",
   "metadata": {},
   "source": [
    "Please visit the [Documentation](https://penguinmenac3.github.io/babilim/index.html) if you just want to use babilim.\n",
    "\n",
    "## Install\n",
    "\n",
    "Follow the official instructions [here](https://pytorch.org/get-started/locally/) to install pytorch or [here](https://www.tensorflow.org/install) to install tensorflow 2.\n",
    "\n",
    "```\n",
    "# Stable Version\n",
    "pip install babilim\n",
    "\n",
    "# Bleeding Edge\n",
    "pip install git+https://github.com/penguinmenac3/babilim.git\n",
    "```\n",
    "\n",
    "## What is Babilim?\n",
    "\n",
    "Babilim is a Deep Learning Framework designed for ease of use like Keras.\n",
    "The API is designed to be intuitive and easy while allowing for complex production or research models.\n",
    "On top of that babilim runs on top of Tensorflow 2 or Pytorch, whichever you prefer.\n",
    "\n",
    "Babilim was designed for:\n",
    "\n",
    "* Intuitive ease of use,\n",
    "* a unified development experience across pytorch and tf2,\n",
    "* flexibility for research and robustness for production\n",
    "\n",
    "## How to use it?\n",
    "\n",
    "Please visit the [Documentation](https://penguinmenac3.github.io/babilim/index.html).\n",
    "\n",
    "## Contributing\n",
    "\n",
    "Currently there are no guidelines on how to contribute, so the best thing you can do is open up an issue and get in contact that way.\n",
    "In the issue we can discuss how you can implement your new feature or how to fix that nasty bug.\n"
   ]
  }
 ],
 "metadata": {
  "kernelspec": {
   "display_name": "Python 3",
   "language": "python",
   "name": "python3"
  }
 },
 "nbformat": 4,
 "nbformat_minor": 4
}

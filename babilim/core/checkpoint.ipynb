{
 "cells": [
  {
   "cell_type": "code",
   "execution_count": 1,
   "metadata": {},
   "outputs": [],
   "source": [
    "#convert"
   ]
  },
  {
   "cell_type": "markdown",
   "metadata": {},
   "source": [
    "# babilim.core.checkpoint\n",
    "\n",
    "> Loading and saving checkpoints with babilim."
   ]
  },
  {
   "cell_type": "code",
   "execution_count": 2,
   "metadata": {},
   "outputs": [],
   "source": [
    "#export\n",
    "import os\n",
    "import numpy as np\n",
    "from typing import Dict\n",
    "from babilim import is_backend, TF_BACKEND, PYTORCH_BACKEND\n",
    "from babilim.core.logging import info, warn"
   ]
  },
  {
   "cell_type": "code",
   "execution_count": 3,
   "metadata": {},
   "outputs": [],
   "source": [
    "#export\n",
    "def load_state(checkpoint_path: str, native_format: bool = False) -> Dict:\n",
    "    \"\"\"\n",
    "    Load the state from a checkpoint.\n",
    "    \n",
    "    :param checkpoint_path: The path to the file in which the checkpoint is stored.\n",
    "    :param native_format: (Optional) If the checkpoint should use the backend specific native format. (default: False)\n",
    "    :return: A dict containing the states.\n",
    "    \"\"\"\n",
    "    if native_format:\n",
    "        if is_backend(PYTORCH_BACKEND):\n",
    "            import torch\n",
    "            return torch.load(checkpoint_path, map_location='cpu')\n",
    "        else:\n",
    "            raise NotImplementedError()\n",
    "    else:\n",
    "        data = np.load(checkpoint_path, allow_pickle=False)\n",
    "        out = {}\n",
    "        prefixes = list(set([key.split(\"/\")[0] for key in list(data.keys())]))\n",
    "        for prefix in prefixes:\n",
    "            if prefix in data:  # primitive types\n",
    "                out[prefix] = data[prefix]\n",
    "            else:  # dict types\n",
    "                tmp = {\"{}\".format(\"/\".join(k.split(\"/\")[1:])): data[k] for k in data if k.startswith(prefix)}\n",
    "                out[prefix] = tmp\n",
    "        return out"
   ]
  },
  {
   "cell_type": "code",
   "execution_count": 4,
   "metadata": {},
   "outputs": [],
   "source": [
    "#export\n",
    "def save_state(data, checkpoint_path, native_format=False):\n",
    "    \"\"\"\n",
    "    Save the state to a checkpoint.\n",
    "    \n",
    "    :param data: A dict containing the states.\n",
    "    :param checkpoint_path: The path to the file in which the checkpoint shall be stored.\n",
    "    :param native_format: (Optional) If the checkpoint should use the backend specific native format. (default: False)\n",
    "    \"\"\"\n",
    "    if native_format:\n",
    "        if is_backend(PYTORCH_BACKEND):\n",
    "            import torch\n",
    "            return torch.save(data, checkpoint_path)\n",
    "        else:\n",
    "            raise NotImplementedError()\n",
    "    else:\n",
    "        out = {}\n",
    "        for key, value in data.items():\n",
    "            if isinstance(value, dict):\n",
    "                tmp = {\"{}/{}\".format(key, k): value[k] for k in value}\n",
    "                out.update(tmp)\n",
    "            elif any(isinstance(value, t) for t in [int, str, float, list]):\n",
    "                out[key] = value\n",
    "            else:\n",
    "                raise RuntimeError(\"The type ({}) of {} is not allowed!\".format(type(value), key))\n",
    "        np.savez_compressed(checkpoint_path, **out)"
   ]
  },
  {
   "cell_type": "code",
   "execution_count": null,
   "metadata": {},
   "outputs": [],
   "source": []
  }
 ],
 "metadata": {
  "kernelspec": {
   "display_name": "Local (tf2)",
   "language": "python",
   "name": "tf2"
  },
  "language_info": {
   "codemirror_mode": {
    "name": "ipython",
    "version": 3
   },
   "file_extension": ".py",
   "mimetype": "text/x-python",
   "name": "python",
   "nbconvert_exporter": "python",
   "pygments_lexer": "ipython3",
   "version": "3.6.10"
  }
 },
 "nbformat": 4,
 "nbformat_minor": 4
}

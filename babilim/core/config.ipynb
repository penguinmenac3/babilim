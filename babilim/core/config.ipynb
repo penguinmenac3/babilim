{
 "cells": [
  {
   "cell_type": "code",
   "execution_count": 1,
   "metadata": {},
   "outputs": [],
   "source": [
    "#convert"
   ]
  },
  {
   "cell_type": "markdown",
   "metadata": {},
   "source": [
    "# babilim.core.config\n",
    "\n",
    "> The base class for every config.\n",
    "\n",
    "This code is under the MIT License."
   ]
  },
  {
   "cell_type": "code",
   "execution_count": 2,
   "metadata": {},
   "outputs": [],
   "source": [
    "#export\n",
    "# MIT License\n",
    "#\n",
    "# Copyright (c) 2019 Michael Fuerst\n",
    "#\n",
    "# Permission is hereby granted, free of charge, to any person obtaining a copy\n",
    "# of this software and associated documentation files (the \"Software\"), to deal\n",
    "# in the Software without restriction, including without limitation the rights\n",
    "# to use, copy, modify, merge, publish, distribute, sublicense, and/or sell\n",
    "# copies of the Software, and to permit persons to whom the Software is\n",
    "# furnished to do so, subject to the following conditions:\n",
    "#\n",
    "# The above copyright notice and this permission notice shall be included in all\n",
    "# copies or substantial portions of the Software.\n",
    "#\n",
    "# THE SOFTWARE IS PROVIDED \"AS IS\", WITHOUT WARRANTY OF ANY KIND, EXPRESS OR\n",
    "# IMPLIED, INCLUDING BUT NOT LIMITED TO THE WARRANTIES OF MERCHANTABILITY,\n",
    "# FITNESS FOR A PARTICULAR PURPOSE AND NONINFRINGEMENT. IN NO EVENT SHALL THE\n",
    "# AUTHORS OR COPYRIGHT HOLDERS BE LIABLE FOR ANY CLAIM, DAMAGES OR OTHER\n",
    "# LIABILITY, WHETHER IN AN ACTION OF CONTRACT, TORT OR OTHERWISE, ARISING FROM,\n",
    "# OUT OF OR IN CONNECTION WITH THE SOFTWARE OR THE USE OR OTHER DEALINGS IN THE\n",
    "# SOFTWARE."
   ]
  },
  {
   "cell_type": "code",
   "execution_count": 3,
   "metadata": {},
   "outputs": [],
   "source": [
    "#export\n",
    "import os\n",
    "import sys\n",
    "from typing import Dict, Any\n",
    "import json\n",
    "import importlib\n",
    "import inspect"
   ]
  },
  {
   "cell_type": "markdown",
   "metadata": {},
   "source": [
    "#hide\n",
    "\n",
    "## Config\n",
    "\n",
    "Base config for all configs."
   ]
  },
  {
   "cell_type": "code",
   "execution_count": 5,
   "metadata": {},
   "outputs": [],
   "source": [
    "#export\n",
    "class Config(object):\n",
    "    def __init__(self) -> None:\n",
    "        \"\"\"\n",
    "        A configuration for a deep learning project.\n",
    "        \n",
    "        This class should never be instantiated directly, subclass it instead and add your atributes after calling super.\n",
    "        \"\"\"\n",
    "        # Training parameters.\n",
    "        self.train_batch_size = 1\n",
    "        self.train_epochs = 1\n",
    "\n",
    "        # Required for general dataset loading. (Non architecture specific.)\n",
    "        self.problem_base_dir = None\n",
    "        self.problem_shuffle = True\n",
    "        self.problem_num_threads = 0\n",
    "\n",
    "    def __repr__(self) -> str:\n",
    "        return \"Config(\" + self.__str__() + \")\"\n",
    "    \n",
    "    def __str__(self) -> str:\n",
    "        out = \"\"\n",
    "        for k, v in sorted(self.__dict__.items(), key=lambda x: x[0]):\n",
    "            out += \"{}: {}\\n\".format(k, v)\n",
    "        return out"
   ]
  },
  {
   "cell_type": "markdown",
   "metadata": {},
   "source": [
    "Every configuration has these filds, which you may overwrite as you need.\n",
    "\n",
    "### Dataset/Problem Parameters\n",
    "* `self.problem_base_dir = None`: The path to the root of the dataset folder.\n",
    "* `self.problem_shuffle = True`: If the dataloader used for training should shuffle the data.\n",
    "* `self.problem_num_threads = 0`: How many threads the dataloader should use. (0 means no multithreading and is most stable)\n",
    "\n",
    "### Training Parameters\n",
    "* `self.train_batch_size = 1`: The batch size used for training the neural network. This is required for the dataloader from the dataset.\n",
    "* `self.train_epochs = 1`: The number epochs for how many a training should run."
   ]
  },
  {
   "cell_type": "code",
   "execution_count": null,
   "metadata": {},
   "outputs": [],
   "source": [
    "class MyConfig(Config):\n",
    "    def __init__(self, problem_base_dir: str) -> None:\n",
    "        \"\"\"\n",
    "        This is my example configuration for X.\n",
    "        \n",
    "        :param problem_base_dir: The path to the root of the dataset folder.\n",
    "        \"\"\"\n",
    "        super().__init__()\n",
    "        \n",
    "        self.problem_base_dir = problem_base_dir\n",
    "        self.problem_dataset = MyDatasetClass\n",
    "        self.problem_my_param = 42\n",
    "        \n",
    "        self.train_batch_size = 32\n",
    "        self.train_epochs = 50\n",
    "        self.train_my_param = 1337"
   ]
  },
  {
   "cell_type": "markdown",
   "metadata": {},
   "source": [
    "# Dynamic Config Import\n",
    "\n",
    "When you write a library and need to dynamically import configs, use the following two functions."
   ]
  },
  {
   "cell_type": "code",
   "execution_count": 6,
   "metadata": {},
   "outputs": [],
   "source": [
    "#export\n",
    "def import_config(config_file: str, *args, **kwargs) -> Config:\n",
    "    \"\"\"\n",
    "    Only libraries should use this method. Human users should directly import their configs.\n",
    "    Automatically imports the most specific config from a given file.\n",
    "\n",
    "    :param config_file: Path to the configuration file (e.g. configs/my_config.py)\n",
    "    :return: The configuration object.\n",
    "    \"\"\"\n",
    "    module_name = config_file.replace(\"\\\\\", \".\").replace(\"/\", \".\").replace(\".py\", \"\")\n",
    "    module = importlib.import_module(module_name)\n",
    "    module = importlib.reload(module)\n",
    "    symbols = list(module.__dict__.keys())\n",
    "    symbols = [x for x in symbols if not x.startswith(\"__\")]\n",
    "    n = None\n",
    "    for x in symbols:\n",
    "        if not inspect.isclass(module.__dict__[x]):  # in Case we found something that is not a class ignore it.\n",
    "            continue\n",
    "        if issubclass(module.__dict__[x], Config):\n",
    "            # Allow multiple derivatives of config, when they are derivable from each other in any direction.\n",
    "            if n is not None and not issubclass(module.__dict__[x], module.__dict__[n]) and not issubclass(\n",
    "                    module.__dict__[n], module.__dict__[x]):\n",
    "                raise RuntimeError(\n",
    "                    \"You must only have one class derived from Config in {}. It cannot be decided which to use.\".format(\n",
    "                        config_file))\n",
    "            # Pick the most specific one if they can be derived.\n",
    "            if n is None or issubclass(module.__dict__[x], module.__dict__[n]):\n",
    "                n = x\n",
    "    if n is None:\n",
    "        raise RuntimeError(\"There must be at least one class in {} derived from Config.\".format(config_file))\n",
    "    config = module.__dict__[n](*args, **kwargs)\n",
    "    return config"
   ]
  },
  {
   "cell_type": "code",
   "execution_count": 7,
   "metadata": {},
   "outputs": [],
   "source": [
    "#export\n",
    "def import_checkpoint_config(config_file: str, *args, **kwargs) -> Any:\n",
    "    \"\"\"\n",
    "    Adds the folder in which the config_file is to the pythonpath, imports it and removes the folder from the python path again.\n",
    "\n",
    "    :param config_file: The configuration file which should be loaded.\n",
    "    :return: The configuration object.\n",
    "    \"\"\"\n",
    "    config_file = config_file.replace(\"\\\\\", \"/\")\n",
    "    config_folder = \"/\".join(config_file.split(\"/\")[:-2])\n",
    "    config_file_name=\"/\".join(config_file.split(\"/\")[-2:])\n",
    "\n",
    "    sys.path.append(config_folder)\n",
    "    config = import_config(config_file_name, *args, **kwargs)\n",
    "    sys.path.remove(config_folder)\n",
    "    return config"
   ]
  },
  {
   "cell_type": "code",
   "execution_count": null,
   "metadata": {},
   "outputs": [],
   "source": []
  }
 ],
 "metadata": {
  "kernelspec": {
   "display_name": "Python 3",
   "language": "python",
   "name": "python3"
  },
  "language_info": {
   "codemirror_mode": {
    "name": "ipython",
    "version": 3
   },
   "file_extension": ".py",
   "mimetype": "text/x-python",
   "name": "python",
   "nbconvert_exporter": "python",
   "pygments_lexer": "ipython3",
   "version": "3.7.6"
  }
 },
 "nbformat": 4,
 "nbformat_minor": 4
}

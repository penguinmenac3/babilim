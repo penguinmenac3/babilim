{
 "cells": [
  {
   "cell_type": "code",
   "execution_count": 1,
   "metadata": {},
   "outputs": [],
   "source": [
    "#convert"
   ]
  },
  {
   "cell_type": "markdown",
   "metadata": {},
   "source": [
    "# babilim.core.tensor\n",
    "\n",
    "> Create a tensor independent of the underlying framework."
   ]
  },
  {
   "cell_type": "code",
   "execution_count": 3,
   "metadata": {},
   "outputs": [],
   "source": [
    "#export\n",
    "from typing import Union, Any\n",
    "import numpy as np\n",
    "import babilim\n",
    "from babilim import PYTORCH_BACKEND, TF_BACKEND\n",
    "from babilim.core.itensor import ITensor, ITensorWrapper"
   ]
  },
  {
   "cell_type": "markdown",
   "metadata": {},
   "source": [
    "# Create Tensors\n",
    "\n",
    "This package creates tensors of type ITensor.\n",
    "It does not contain any classes but just a function which creates tensors.\n",
    "This is because there is different implementations of the ITensor interface for pytorch and tensorflow required."
   ]
  },
  {
   "cell_type": "code",
   "execution_count": 4,
   "metadata": {},
   "outputs": [],
   "source": [
    "#export\n",
    "def Tensor(*, data: Union[np.ndarray, Any], trainable: bool) -> ITensor:\n",
    "    \"\"\"\n",
    "    Create a babilim tensor from a native tensor or numpy array.\n",
    "\n",
    "    :param data: The data that should be put in a babilim tensor. This can be either a numpy array or a pytorch/tensorflow tensor.\n",
    "    :param trainable: If the tensor created should be trainable. Only works for numpy tensors, native tensors overwrite this field!\n",
    "    :return: An object of type babilim.core.ITensor.\n",
    "    \"\"\"\n",
    "    if babilim.get_backend() == PYTORCH_BACKEND:\n",
    "        from babilim.core.tensor_pt import Tensor as _Tensor\n",
    "        from torch import Tensor as _PtTensor\n",
    "        native = None\n",
    "        if isinstance(data, _PtTensor):\n",
    "            native = data\n",
    "            data = None\n",
    "        return _Tensor(data, trainable, native)\n",
    "    elif babilim.get_backend() == TF_BACKEND:\n",
    "        from babilim.core.tensor_tf import Tensor as _Tensor\n",
    "        from tensorflow import Tensor as _TfTensor\n",
    "        native = None\n",
    "        if isinstance(data, _TfTensor):\n",
    "            native = data\n",
    "            data = None\n",
    "        return _Tensor(data, trainable, native)\n",
    "    else:\n",
    "        raise RuntimeError(\"No variable implementation for this backend was found. (backend={})\".format(babilim.get_backend()))"
   ]
  },
  {
   "cell_type": "code",
   "execution_count": null,
   "metadata": {},
   "outputs": [],
   "source": [
    "#export\n",
    "def TensorWrapper() -> ITensorWrapper:\n",
    "    \"\"\"\n",
    "    Create a tensor wrapper object.\n",
    "    \n",
    "    Sometimes it is nescesarry to implement stuff in native pytorch or native tensorflow. Here the tensor wrapper can help.\n",
    "\n",
    "    **WARNING: Instead of directly using the TensorWrapper, you should prefer using the babilim.module.Lambda!**\n",
    "    \"\"\"\n",
    "    if babilim.get_backend() == PYTORCH_BACKEND:\n",
    "        from babilim.core.tensor_pt import TensorWrapper as _TensorWrapper\n",
    "        return _TensorWrapper()\n",
    "    elif babilim.get_backend() == TF_BACKEND:\n",
    "        from babilim.core.tensor_tf import TensorWrapper as _TensorWrapper\n",
    "        return _TensorWrapper()\n",
    "    else:\n",
    "        raise RuntimeError(\"No variable implementation for this backend was found. (backend={})\".format(babilim.get_backend()))"
   ]
  }
 ],
 "metadata": {
  "kernelspec": {
   "display_name": "Local (tf2)",
   "language": "python",
   "name": "tf2"
  },
  "language_info": {
   "codemirror_mode": {
    "name": "ipython",
    "version": 3
   },
   "file_extension": ".py",
   "mimetype": "text/x-python",
   "name": "python",
   "nbconvert_exporter": "python",
   "pygments_lexer": "ipython3",
   "version": "3.6.10"
  }
 },
 "nbformat": 4,
 "nbformat_minor": 4
}

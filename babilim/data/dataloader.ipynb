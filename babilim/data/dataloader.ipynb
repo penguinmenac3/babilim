{
 "cells": [
  {
   "cell_type": "code",
   "execution_count": 1,
   "metadata": {},
   "outputs": [],
   "source": [
    "#convert"
   ]
  },
  {
   "cell_type": "markdown",
   "metadata": {},
   "source": [
    "# babilim.data.dataloader\n",
    "\n",
    "> A dataloader object loads the data to the gpu for training."
   ]
  },
  {
   "cell_type": "code",
   "execution_count": 2,
   "metadata": {},
   "outputs": [],
   "source": [
    "#export\n",
    "import sys\n",
    "import traceback\n",
    "from typing import Iterable, Iterator, Any\n",
    "from babilim.core.tensor import TensorWrapper"
   ]
  },
  {
   "cell_type": "code",
   "execution_count": null,
   "metadata": {},
   "outputs": [],
   "source": [
    "#export\n",
    "class Dataloader(Iterable):\n",
    "    def __init__(self, native_dataloader, dataset):\n",
    "        \"\"\"\n",
    "        The dataloader is a wrapper around native dataloaders.\n",
    "        \n",
    "        This API ensures that the data is on the GPU in babilim tensors and in a named tuple.\n",
    "        \n",
    "        You can iterate over the dataloader to get training samples.\n",
    "        To get information about the original dataset you can use `self.dataset`.\n",
    "        \n",
    "        :param native_dataloader: The native dataloader, that should be wrapped.\n",
    "        :param dataset: The original babilim dataset to allow a user getting information about it, if required.\n",
    "        \"\"\"\n",
    "        self.dataset = dataset\n",
    "        self._tensor_wrapper = TensorWrapper()\n",
    "        self.native_dataloader = native_dataloader\n",
    "\n",
    "    def __iter__(self) -> Iterator:\n",
    "        class TensorDataloaderIterator(Iterator):\n",
    "            def __init__(self, native_dataloader, tensor_wrapper):\n",
    "                self._tensor_wrapper = tensor_wrapper\n",
    "                self.native_dataloader_iter = iter(native_dataloader)\n",
    "\n",
    "            def __next__(self) -> Any:\n",
    "                # Print index errors, they probably were an error and not intentional.\n",
    "                try:\n",
    "                    x, y = next(self.native_dataloader_iter)\n",
    "                    inp = dict(x._asdict())\n",
    "                    outp = dict(y._asdict())\n",
    "                    inp = self._tensor_wrapper.wrap(inp)\n",
    "                    outp = self._tensor_wrapper.wrap(outp)\n",
    "                    inp = type(x)(**inp)\n",
    "                    outp = type(y)(**outp)\n",
    "                    return inp, outp\n",
    "                except IndexError as e:\n",
    "                    traceback.print_exc(file=sys.stderr)\n",
    "                    raise e\n",
    "        return TensorDataloaderIterator(self.native_dataloader, self._tensor_wrapper)\n",
    "\n",
    "    def __len__(self) -> int:\n",
    "        return len(self.native_dataloader)"
   ]
  }
 ],
 "metadata": {
  "kernelspec": {
   "display_name": "Local (tf2)",
   "language": "python",
   "name": "tf2"
  },
  "language_info": {
   "codemirror_mode": {
    "name": "ipython",
    "version": 3
   },
   "file_extension": ".py",
   "mimetype": "text/x-python",
   "name": "python",
   "nbconvert_exporter": "python",
   "pygments_lexer": "ipython3",
   "version": "3.6.10"
  }
 },
 "nbformat": 4,
 "nbformat_minor": 4
}

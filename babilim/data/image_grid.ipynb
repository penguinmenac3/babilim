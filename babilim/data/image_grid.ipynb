{
 "cells": [
  {
   "cell_type": "code",
   "execution_count": 1,
   "metadata": {},
   "outputs": [],
   "source": [
    "#convert"
   ]
  },
  {
   "cell_type": "markdown",
   "metadata": {},
   "source": [
    "# babilim.data.image_grid\n",
    "\n",
    "> Wrap an image tensor so that it is in the right format for tensorflow or pytorch."
   ]
  },
  {
   "cell_type": "code",
   "execution_count": 2,
   "metadata": {},
   "outputs": [],
   "source": [
    "#export\n",
    "import babilim\n",
    "import numpy as np"
   ]
  },
  {
   "cell_type": "code",
   "execution_count": 3,
   "metadata": {},
   "outputs": [],
   "source": [
    "#export\n",
    "def image_grid_wrap(data: np.ndarray) -> np.ndarray:\n",
    "    \"\"\"\n",
    "    Prepares 2D grid information to be used in your neural network.\n",
    "    This is required for all data that should be usable by a 2D Convolution.\n",
    "\n",
    "    If your data has shape [H, W] it gets transformed to [H, W, 1] automatically.\n",
    "    For pytorch the data gets further reordered in a channel first order [C, H, W].\n",
    "    \n",
    "    :param data: The data that should be prepared.\n",
    "    :return: A numpy ndarray with the prepared image/grid data.\n",
    "    \"\"\"\n",
    "    if data.ndim != 3 and data.ndim != 2:\n",
    "        raise ValueError(\"Wrong dimensionality of the data. Must be 2/3 dimensional but is {} dimensional.\".format(data.ndim))\n",
    "\n",
    "    # Add a dimension at the end.\n",
    "    if data.ndim == 2:\n",
    "        data = data[:, :, None]\n",
    "\n",
    "    # Transpose data for numpy.\n",
    "    if babilim.is_backend(babilim.PYTORCH_BACKEND):\n",
    "        return data.transpose((2, 0, 1))\n",
    "    else:\n",
    "        return data"
   ]
  },
  {
   "cell_type": "code",
   "execution_count": null,
   "metadata": {},
   "outputs": [],
   "source": [
    "#export\n",
    "def image_grid_unwrap(data: np.ndarray) -> np.ndarray:\n",
    "    \"\"\"\n",
    "    For pytorch the data gets reordered in a channel last order [H, W, C].\n",
    "    \n",
    "    :param data: The data that should be unwrapped.\n",
    "    :return: A numpy ndarray with the unwrapped image/grid data.\n",
    "    \"\"\"\n",
    "    if data.ndim != 3:\n",
    "        raise ValueError(\"Wrong dimensionality of the data. Must be 3 dimensional but is {} dimensional.\".format(data.ndim))\n",
    "    # Transpose data for numpy.\n",
    "    if babilim.is_backend(babilim.PYTORCH_BACKEND):\n",
    "        return data.transpose((1, 2, 0))\n",
    "    else:\n",
    "        return data\n"
   ]
  }
 ],
 "metadata": {
  "kernelspec": {
   "display_name": "Local (tf2)",
   "language": "python",
   "name": "tf2"
  },
  "language_info": {
   "codemirror_mode": {
    "name": "ipython",
    "version": 3
   },
   "file_extension": ".py",
   "mimetype": "text/x-python",
   "name": "python",
   "nbconvert_exporter": "python",
   "pygments_lexer": "ipython3",
   "version": "3.6.10"
  }
 },
 "nbformat": 4,
 "nbformat_minor": 4
}

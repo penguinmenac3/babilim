{
 "cells": [
  {
   "cell_type": "code",
   "execution_count": 1,
   "metadata": {},
   "outputs": [],
   "source": [
    "#convert"
   ]
  },
  {
   "cell_type": "markdown",
   "metadata": {},
   "source": [
    "# babilim.data.transformer\n",
    "\n",
    "> A transformer converts the data from a general format into what the neural network needs."
   ]
  },
  {
   "cell_type": "code",
   "execution_count": 3,
   "metadata": {},
   "outputs": [],
   "source": [
    "#export\n",
    "from typing import Callable"
   ]
  },
  {
   "cell_type": "code",
   "execution_count": null,
   "metadata": {},
   "outputs": [],
   "source": [
    "#export\n",
    "class Transformer(Callable):\n",
    "    def __init__(self):\n",
    "        \"\"\"\n",
    "        A transformer must implement `__call__`.\n",
    "        \n",
    "        A transformer is a callable that gets the data (usually a tuple of feature, label), transforms it and returns the data again (usually as a tuple of feature, label).\n",
    "        The last transformer must output a tuple of feature of type NetworkInput (namedtuple) and label of type NetworkOutput (namedtuple) for babilim to be able to pass it to the neural network.\n",
    "        \"\"\"\n",
    "        pass\n",
    "\n",
    "    def __call__(self, *args):\n",
    "        \"\"\"\n",
    "        This function gets the data from the previous transformer or dataset as input and should output the data again.\n",
    "\n",
    "        :param args: The input data.\n",
    "        :return: The output data.\n",
    "        \"\"\"\n",
    "        raise NotImplementedError\n",
    "\n",
    "    @property\n",
    "    def version(self):\n",
    "        \"\"\"\n",
    "        Defines the version of the transformer. The name can be also something descriptive of the method.\n",
    "\n",
    "        :return: The version number of the transformer.\n",
    "        \"\"\"\n",
    "        raise NotImplementedError"
   ]
  }
 ],
 "metadata": {
  "kernelspec": {
   "display_name": "Local (tf2)",
   "language": "python",
   "name": "tf2"
  },
  "language_info": {
   "codemirror_mode": {
    "name": "ipython",
    "version": 3
   },
   "file_extension": ".py",
   "mimetype": "text/x-python",
   "name": "python",
   "nbconvert_exporter": "python",
   "pygments_lexer": "ipython3",
   "version": "3.6.10"
  }
 },
 "nbformat": 4,
 "nbformat_minor": 4
}

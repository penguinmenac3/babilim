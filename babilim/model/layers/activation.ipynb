{
 "cells": [
  {
   "cell_type": "code",
   "execution_count": 1,
   "metadata": {},
   "outputs": [],
   "source": [
    "#convert"
   ]
  },
  {
   "cell_type": "markdown",
   "metadata": {},
   "source": [
    "# babilim.model.layers.activation\n",
    "\n",
    "> Compute an activation function."
   ]
  },
  {
   "cell_type": "code",
   "execution_count": 2,
   "metadata": {},
   "outputs": [],
   "source": [
    "#export\n",
    "from babilim.core.annotations import RunOnlyOnce\n",
    "from babilim.core.module_native import ModuleNative"
   ]
  },
  {
   "cell_type": "code",
   "execution_count": 3,
   "metadata": {},
   "outputs": [],
   "source": [
    "#export\n",
    "class Activation(ModuleNative):\n",
    "    def __init__(self, activation):\n",
    "        \"\"\"\n",
    "        Supports the activation functions.\n",
    "    \n",
    "        :param activation: A string specifying the activation function to use. (Only \"relu\" and None supported yet.)\n",
    "        \"\"\"\n",
    "        super().__init__()\n",
    "        self.activation = activation\n",
    "        \n",
    "    @RunOnlyOnce\n",
    "    def _build_pytorch(self, features):\n",
    "        if self.activation is None:\n",
    "            self.activation = self.activation\n",
    "        elif self.activation == \"relu\":\n",
    "            from torch.nn.functional import relu\n",
    "            self.activation = relu\n",
    "        else:\n",
    "            raise NotImplementedError(\"Activation '{}' not implemented.\".format(activation))\n",
    "        \n",
    "    def _call_pytorch(self, features):\n",
    "        if self.activation is None:\n",
    "            return features\n",
    "        else:\n",
    "            return self.activation(features)\n",
    "    \n",
    "    @RunOnlyOnce\n",
    "    def _build_tf(self, features):\n",
    "        if self.activation is None:\n",
    "            self.activation = None\n",
    "        else:\n",
    "            from tensorflow.keras.layers import Activation as _Activation\n",
    "            self.activation = _Activation(self.activation)\n",
    "        \n",
    "    def _call_tf(self, features):\n",
    "        if self.activation is None:\n",
    "            return features\n",
    "        else:\n",
    "            return self.activation(features)"
   ]
  },
  {
   "cell_type": "code",
   "execution_count": 4,
   "metadata": {
    "tags": []
   },
   "outputs": [
    {
     "output_type": "stream",
     "name": "stdout",
     "text": "[-1.  -0.5  0.   0.5  1. ]\n[0.  0.  0.  0.5 1. ]\n"
    }
   ],
   "source": [
    "from babilim.core.tensor import Tensor\n",
    "import numpy as np\n",
    "\n",
    "activation = Activation(activation=\"relu\")\n",
    "tensor = Tensor(data=np.array([-1.0, -0.5, 0, 0.5, 1.0], dtype=np.float32), trainable=False)\n",
    "\n",
    "print(tensor.numpy())\n",
    "result = activation(tensor)\n",
    "print(result.numpy())"
   ]
  },
  {
   "cell_type": "code",
   "execution_count": null,
   "metadata": {},
   "outputs": [],
   "source": []
  }
 ],
 "metadata": {
  "kernelspec": {
   "display_name": "Python 3.8.3 64-bit ('base': conda)",
   "language": "python",
   "name": "python38364bitbasecondae7cd72b7144542bdae788b1dbf27e222"
  },
  "language_info": {
   "codemirror_mode": {
    "name": "ipython",
    "version": 3
   },
   "file_extension": ".py",
   "mimetype": "text/x-python",
   "name": "python",
   "nbconvert_exporter": "python",
   "pygments_lexer": "ipython3",
   "version": "3.8.3-final"
  }
 },
 "nbformat": 4,
 "nbformat_minor": 4
}
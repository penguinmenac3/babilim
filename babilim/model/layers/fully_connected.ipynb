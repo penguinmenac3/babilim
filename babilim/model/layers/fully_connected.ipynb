{
 "cells": [
  {
   "cell_type": "code",
   "execution_count": 1,
   "metadata": {},
   "outputs": [],
   "source": [
    "#convert"
   ]
  },
  {
   "cell_type": "markdown",
   "metadata": {},
   "source": [
    "# babilim.model.layers.fully_connected\n",
    "\n",
    "> A simple fully connected layer (aka Linear Layer or Dense)."
   ]
  },
  {
   "cell_type": "code",
   "execution_count": 2,
   "metadata": {},
   "outputs": [],
   "source": [
    "#export\n",
    "from babilim.core.annotations import RunOnlyOnce\n",
    "from babilim.core.module_native import ModuleNative\n",
    "from babilim.model.layers.activation import Activation"
   ]
  },
  {
   "cell_type": "code",
   "execution_count": 3,
   "metadata": {},
   "outputs": [],
   "source": [
    "#export\n",
    "class FullyConnected(ModuleNative):\n",
    "    def __init__(self, out_features: int, activation=None):\n",
    "        \"\"\"\n",
    "        A simple fully connected layer (aka Linear Layer or Dense).\n",
    "\n",
    "        It computes Wx+b with optional activation funciton.\n",
    "\n",
    "        :param out_features: The number of output features.\n",
    "        :param activation: The activation function that should be added after the fc layer.\n",
    "        \"\"\"\n",
    "        super().__init__()\n",
    "        self.out_features = out_features\n",
    "        self.activation = Activation(activation)\n",
    "        \n",
    "    @RunOnlyOnce\n",
    "    def _build_pytorch(self, features):\n",
    "        import torch\n",
    "        from babilim.core.tensor_pt import Tensor as _Tensor\n",
    "        in_features = features.shape[-1]\n",
    "        self.linear = torch.nn.Linear(in_features, self.out_features)\n",
    "        self.weight = _Tensor(data=None, trainable=True, native=self.linear.weight)\n",
    "        self.bias = _Tensor(data=None, trainable=True, native=self.linear.bias)\n",
    "        if torch.cuda.is_available():\n",
    "            self.linear = self.linear.to(torch.device(\"cuda\"))  # FIXME shouldn't this be done automatically?\n",
    "        \n",
    "    def _call_pytorch(self, features):\n",
    "        return self.activation(self.linear(features))\n",
    "    \n",
    "    @RunOnlyOnce\n",
    "    def _build_tf(self, features):\n",
    "        from tensorflow.keras.layers import Dense\n",
    "        from babilim.core.tensor_tf import Tensor as _Tensor\n",
    "        self.linear = Dense(self.out_features)\n",
    "        self.linear.build(features.shape)\n",
    "        self.weight = _Tensor(data=None, trainable=True, native=self.linear.kernel)\n",
    "        self.bias = _Tensor(data=None, trainable=True, native=self.linear.bias)\n",
    "\n",
    "    def _call_tf(self, features):\n",
    "        return self.activation(self.linear(features))"
   ]
  },
  {
   "cell_type": "code",
   "execution_count": 4,
   "metadata": {
    "tags": []
   },
   "outputs": [
    {
     "output_type": "stream",
     "name": "stdout",
     "text": "(10, 24)\n(10, 10)\n"
    }
   ],
   "source": [
    "from babilim.core.tensor import Tensor\n",
    "import numpy as np\n",
    "\n",
    "fc1 = FullyConnected(out_features=10)\n",
    "tensor = Tensor(data=np.zeros((10,24), dtype=np.float32), trainable=False)\n",
    "\n",
    "print(tensor.shape)\n",
    "result = fc1(tensor)\n",
    "print(result.shape)"
   ]
  },
  {
   "cell_type": "code",
   "execution_count": null,
   "metadata": {},
   "outputs": [],
   "source": []
  }
 ],
 "metadata": {
  "kernelspec": {
   "display_name": "Python 3.8.3 64-bit ('base': conda)",
   "language": "python",
   "name": "python38364bitbasecondae7cd72b7144542bdae788b1dbf27e222"
  },
  "language_info": {
   "codemirror_mode": {
    "name": "ipython",
    "version": 3
   },
   "file_extension": ".py",
   "mimetype": "text/x-python",
   "name": "python",
   "nbconvert_exporter": "python",
   "pygments_lexer": "ipython3",
   "version": "3.8.3-final"
  }
 },
 "nbformat": 4,
 "nbformat_minor": 4
}

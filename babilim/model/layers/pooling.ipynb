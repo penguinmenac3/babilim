{
 "cells": [
  {
   "cell_type": "code",
   "execution_count": 1,
   "metadata": {},
   "outputs": [],
   "source": [
    "#convert"
   ]
  },
  {
   "cell_type": "markdown",
   "metadata": {},
   "source": [
    "# babilim.model.layers.pooling\n",
    "\n",
    "> Pooling operations."
   ]
  },
  {
   "cell_type": "code",
   "execution_count": 2,
   "metadata": {},
   "outputs": [],
   "source": [
    "#export\n",
    "from babilim.core.annotations import RunOnlyOnce\n",
    "from babilim.core.module_native import ModuleNative"
   ]
  },
  {
   "cell_type": "code",
   "execution_count": 3,
   "metadata": {},
   "outputs": [],
   "source": [
    "#export\n",
    "class MaxPooling1D(ModuleNative):\n",
    "    def __init__(self, pool_size=2, stride=None):\n",
    "        \"\"\"\n",
    "        A N max pooling layer.\n",
    "    \n",
    "        Computes the max of a N region with stride S.\n",
    "        This divides the feature map size by S.\n",
    "\n",
    "        :param pool_size: Size of the region over which is pooled.\n",
    "        :param stride: The stride defines how the top left corner of the pooling moves across the image. If None then it is same to pool_size resulting in zero overlap between pooled regions.\n",
    "        \"\"\"\n",
    "        super().__init__()\n",
    "        self.pool_size = pool_size\n",
    "        self.stride = stride\n",
    "        if self.stride is None:\n",
    "            self.stride = self.pool_size\n",
    "        \n",
    "    @RunOnlyOnce\n",
    "    def _build_pytorch(self, features):\n",
    "        pass\n",
    "        \n",
    "    def _call_pytorch(self, features):\n",
    "        from torch.nn.functional import max_pool1d as _MaxPooling1D\n",
    "        return _MaxPooling1D(features, self.pool_size, stride=self.stride)\n",
    "    \n",
    "    @RunOnlyOnce\n",
    "    def _build_tf(self, features):\n",
    "        from tensorflow.keras.layers import MaxPooling1D as MaxPooling1D\n",
    "        self.pool = _MaxPooling1D(pool_size=self.pool_size, strides=self.stride)\n",
    "        \n",
    "    def _call_tf(self, features):\n",
    "        return self.pool(features)"
   ]
  },
  {
   "cell_type": "code",
   "execution_count": 4,
   "metadata": {
    "tags": []
   },
   "outputs": [
    {
     "output_type": "stream",
     "name": "stdout",
     "text": "(10, 8, 16)\n(10, 8, 8)\n"
    }
   ],
   "source": [
    "from babilim.core.tensor import Tensor\n",
    "import numpy as np\n",
    "\n",
    "max_pool_1d = MaxPooling1D()\n",
    "tensor = Tensor(data=np.zeros((10,8,16)), trainable=False)\n",
    "\n",
    "print(tensor.shape)\n",
    "result = max_pool_1d(tensor)\n",
    "print(result.shape)"
   ]
  },
  {
   "cell_type": "code",
   "execution_count": 5,
   "metadata": {},
   "outputs": [],
   "source": [
    "#export\n",
    "class MaxPooling2D(ModuleNative):\n",
    "    def __init__(self, pool_size=(2, 2), stride=None):\n",
    "        \"\"\"\n",
    "        A NxN max pooling layer.\n",
    "    \n",
    "        Computes the max of a NxN region with stride S.\n",
    "        This divides the feature map size by S.\n",
    "\n",
    "        :param pool_size: Size of the region over which is pooled.\n",
    "        :param stride: The stride defines how the top left corner of the pooling moves across the image. If None then it is same to pool_size resulting in zero overlap between pooled regions.\n",
    "        \"\"\"\n",
    "        super().__init__()\n",
    "        self.pool_size = pool_size\n",
    "        self.stride = stride\n",
    "        if self.stride is None:\n",
    "            self.stride = self.pool_size\n",
    "        \n",
    "    @RunOnlyOnce\n",
    "    def _build_pytorch(self, features):\n",
    "        pass\n",
    "        \n",
    "    def _call_pytorch(self, features):\n",
    "        from torch.nn.functional import max_pool2d as _MaxPooling2D\n",
    "        return _MaxPooling2D(features, self.pool_size, stride=self.stride)\n",
    "    \n",
    "    @RunOnlyOnce\n",
    "    def _build_tf(self, features):\n",
    "        from tensorflow.keras.layers import MaxPooling2D as MaxPooling2D\n",
    "        self.pool = _MaxPooling2D(pool_size=self.pool_size, strides=self.stride)\n",
    "        \n",
    "    def _call_tf(self, features):\n",
    "        return self.pool(features)"
   ]
  },
  {
   "cell_type": "code",
   "execution_count": 6,
   "metadata": {
    "tags": []
   },
   "outputs": [
    {
     "output_type": "stream",
     "name": "stdout",
     "text": "(10, 8, 16, 32)\n(10, 8, 8, 16)\n"
    }
   ],
   "source": [
    "from babilim.core.tensor import Tensor\n",
    "import numpy as np\n",
    "\n",
    "max_pool_2d = MaxPooling2D()\n",
    "tensor = Tensor(data=np.zeros((10,8,16,32)), trainable=False)\n",
    "\n",
    "print(tensor.shape)\n",
    "result = max_pool_2d(tensor)\n",
    "print(result.shape)"
   ]
  },
  {
   "cell_type": "code",
   "execution_count": 7,
   "metadata": {},
   "outputs": [],
   "source": [
    "#export\n",
    "class GlobalAveragePooling1D(ModuleNative):\n",
    "    def __init__(self):\n",
    "        \"\"\"\n",
    "        A global average pooling layer.\n",
    "    \n",
    "        This computes the global average in N dimension (B, N, C), so that the result is of shape (B, C).\n",
    "        \"\"\"\n",
    "        super().__init__()\n",
    "        \n",
    "    @RunOnlyOnce\n",
    "    def _build_pytorch(self, features):\n",
    "        from babilim.model.layers.flatten import Flatten\n",
    "        self.flatten = Flatten()\n",
    "        \n",
    "    def _call_pytorch(self, features):\n",
    "        from torch.nn.functional import avg_pool1d as _AveragePooling1D\n",
    "        return self.flatten(_AveragePooling1D(features, features.size()[2:]))\n",
    "    \n",
    "    @RunOnlyOnce\n",
    "    def _build_tf(self, features):\n",
    "        from tensorflow.keras.layers import GlobalAveragePooling1D as _GlobalAveragePooling1D\n",
    "        self.pool = _GlobalAveragePooling1D()\n",
    "        \n",
    "    def _call_tf(self, features):\n",
    "        return self.pool(features)"
   ]
  },
  {
   "cell_type": "code",
   "execution_count": 8,
   "metadata": {
    "tags": []
   },
   "outputs": [
    {
     "output_type": "stream",
     "name": "stdout",
     "text": "(10, 8, 5)\n(10, 8)\n"
    }
   ],
   "source": [
    "from babilim.core.tensor import Tensor\n",
    "import numpy as np\n",
    "\n",
    "global_avg_pool_1d = GlobalAveragePooling1D()\n",
    "tensor = Tensor(data=np.zeros((10,8,5)), trainable=False)\n",
    "\n",
    "print(tensor.shape)\n",
    "result = global_avg_pool_1d(tensor)\n",
    "print(result.shape)"
   ]
  },
  {
   "cell_type": "code",
   "execution_count": 9,
   "metadata": {},
   "outputs": [],
   "source": [
    "#export\n",
    "class GlobalAveragePooling2D(ModuleNative):\n",
    "    def __init__(self):\n",
    "        \"\"\"\n",
    "        A global average pooling layer.\n",
    "    \n",
    "        This computes the global average in W, H dimension, so that the result is of shape (B, C).\n",
    "        \"\"\"\n",
    "        super().__init__()\n",
    "        \n",
    "    @RunOnlyOnce\n",
    "    def _build_pytorch(self, features):\n",
    "        from babilim.model.layers.flatten import Flatten\n",
    "        self.flatten = Flatten()\n",
    "        \n",
    "    def _call_pytorch(self, features):\n",
    "        from torch.nn.functional import avg_pool2d as _AveragePooling2D\n",
    "        return self.flatten(_AveragePooling2D(features, features.size()[2:]))\n",
    "    \n",
    "    @RunOnlyOnce\n",
    "    def _build_tf(self, features):\n",
    "        from tensorflow.keras.layers import GlobalAveragePooling2D as _GlobalAveragePooling2D\n",
    "        self.pool = _GlobalAveragePooling2D()\n",
    "        \n",
    "    def _call_tf(self, features):\n",
    "        return self.pool(features)"
   ]
  },
  {
   "cell_type": "code",
   "execution_count": 10,
   "metadata": {
    "tags": []
   },
   "outputs": [
    {
     "output_type": "stream",
     "name": "stdout",
     "text": "(10, 8, 5, 3)\n(10, 8)\n"
    }
   ],
   "source": [
    "from babilim.core.tensor import Tensor\n",
    "import numpy as np\n",
    "\n",
    "global_avg_pool_2d = GlobalAveragePooling2D()\n",
    "tensor = Tensor(data=np.zeros((10,8,5,3)), trainable=False)\n",
    "\n",
    "print(tensor.shape)\n",
    "result = global_avg_pool_2d(tensor)\n",
    "print(result.shape)"
   ]
  }
 ],
 "metadata": {
  "kernelspec": {
   "display_name": "Python 3.8.3 64-bit ('base': conda)",
   "language": "python",
   "name": "python38364bitbasecondae7cd72b7144542bdae788b1dbf27e222"
  },
  "language_info": {
   "codemirror_mode": {
    "name": "ipython",
    "version": 3
   },
   "file_extension": ".py",
   "mimetype": "text/x-python",
   "name": "python",
   "nbconvert_exporter": "python",
   "pygments_lexer": "ipython3",
   "version": "3.8.3-final"
  }
 },
 "nbformat": 4,
 "nbformat_minor": 4
}
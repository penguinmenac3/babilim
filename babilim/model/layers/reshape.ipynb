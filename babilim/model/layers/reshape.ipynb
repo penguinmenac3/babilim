{
 "cells": [
  {
   "cell_type": "code",
   "execution_count": 1,
   "metadata": {},
   "outputs": [],
   "source": [
    "#convert"
   ]
  },
  {
   "cell_type": "markdown",
   "metadata": {},
   "source": [
    "# babilim.model.layers.reshape\n",
    "\n",
    "> Reshape a tensor."
   ]
  },
  {
   "cell_type": "code",
   "execution_count": 2,
   "metadata": {},
   "outputs": [],
   "source": [
    "#export\n",
    "from babilim.core.annotations import RunOnlyOnce\n",
    "from babilim.core.module_native import ModuleNative"
   ]
  },
  {
   "cell_type": "code",
   "execution_count": 3,
   "metadata": {},
   "outputs": [],
   "source": [
    "#export\n",
    "class Reshape(ModuleNative):\n",
    "    def __init__(self, output_shape):\n",
    "        \"\"\"\n",
    "        Reshape a tensor.\n",
    "    \n",
    "        A tensor of shape (B, ?) where B is the batch size gets reshaped into (B, output_shape[0], output_shape[1], ...) where the batch size is kept and all other dimensions are depending on output_shape.\n",
    "\n",
    "        :param output_shape: The shape that the tensor should have after reshaping is (batch_size,) + output_shape (meaning batch size is automatically kept).\n",
    "        \"\"\"\n",
    "        super().__init__()\n",
    "        self.output_shape = output_shape\n",
    "        \n",
    "    @RunOnlyOnce\n",
    "    def _build_pytorch(self, features):\n",
    "        self.output_shape = list(self.output_shape)\n",
    "        \n",
    "    def _call_pytorch(self, features):\n",
    "        shape = [features.shape[0]] + self.output_shape\n",
    "        return features.view(shape)\n",
    "    \n",
    "    @RunOnlyOnce\n",
    "    def _build_tf(self, features):\n",
    "        from tensorflow.keras.layers import Reshape as _Reshape\n",
    "        self.reshape = _Reshape(self.output_shape)\n",
    "        \n",
    "    def _call_tf(self, features):\n",
    "        return self.reshape(features)"
   ]
  },
  {
   "cell_type": "code",
   "execution_count": 4,
   "metadata": {
    "tags": []
   },
   "outputs": [
    {
     "output_type": "stream",
     "name": "stdout",
     "text": "(10, 8, 8, 3)\n(10, 8, 24)\n"
    }
   ],
   "source": [
    "from babilim.core.tensor import Tensor\n",
    "import numpy as np\n",
    "\n",
    "reshape = Reshape(output_shape=(8, 24))\n",
    "tensor = Tensor(data=np.zeros((10,8,8,3), dtype=np.float32), trainable=False)\n",
    "\n",
    "print(tensor.shape)\n",
    "result = reshape(tensor)\n",
    "print(result.shape)"
   ]
  },
  {
   "cell_type": "code",
   "execution_count": null,
   "metadata": {},
   "outputs": [],
   "source": []
  }
 ],
 "metadata": {
  "kernelspec": {
   "display_name": "Python 3.8.3 64-bit ('base': conda)",
   "language": "python",
   "name": "python38364bitbasecondae7cd72b7144542bdae788b1dbf27e222"
  },
  "language_info": {
   "codemirror_mode": {
    "name": "ipython",
    "version": 3
   },
   "file_extension": ".py",
   "mimetype": "text/x-python",
   "name": "python",
   "nbconvert_exporter": "python",
   "pygments_lexer": "ipython3",
   "version": "3.8.3-final"
  }
 },
 "nbformat": 4,
 "nbformat_minor": 4
}
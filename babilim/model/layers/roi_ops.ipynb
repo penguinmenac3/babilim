{
 "cells": [
  {
   "cell_type": "code",
   "execution_count": 1,
   "metadata": {},
   "outputs": [],
   "source": [
    "#convert"
   ]
  },
  {
   "cell_type": "markdown",
   "metadata": {},
   "source": [
    "# babilim.model.layers.roi_ops\n",
    "\n",
    "> Operations for region of interest extraction."
   ]
  },
  {
   "cell_type": "code",
   "execution_count": 2,
   "metadata": {},
   "outputs": [],
   "source": [
    "#export\n",
    "from babilim.core.annotations import RunOnlyOnce\n",
    "from babilim.core.module_native import ModuleNative"
   ]
  },
  {
   "cell_type": "code",
   "execution_count": 3,
   "metadata": {},
   "outputs": [],
   "source": [
    "#export\n",
    "def _convert_boxes_to_roi_format(boxes):\n",
    "    \"\"\"\n",
    "    Convert rois into the torchvision format.\n",
    "\n",
    "    :param boxes: The roi boxes as a native tensor[B, K, 4].\n",
    "    :return: The roi boxes in the format that roi pooling and roi align in torchvision require. Native tensor[B*K, 5].\n",
    "    \"\"\"\n",
    "    import torch\n",
    "    concat_boxes = boxes.view((-1, 4))\n",
    "    ids = torch.full_like(boxes[:, :, :1], 0)\n",
    "    for i in range(boxes.shape[0]):\n",
    "        ids[i, :, :] = i\n",
    "    ids = ids.view((-1, 1))\n",
    "    rois = torch.cat([ids, concat_boxes], dim=1)\n",
    "    return rois"
   ]
  },
  {
   "cell_type": "code",
   "execution_count": 4,
   "metadata": {},
   "outputs": [],
   "source": [
    "#export\n",
    "class RoiPool(ModuleNative):\n",
    "    def __init__(self, output_size, spatial_scale=1.0):\n",
    "        \"\"\"\n",
    "        Performs Region of Interest (RoI) Pool operator described in Fast R-CNN.\n",
    "\n",
    "        Creates a callable object, when calling you can use these Arguments:\n",
    "        * **features**: (Tensor[N, C, H, W]) input tensor\n",
    "        * **rois**: (Tensor[N, K, 4]) the box coordinates in (x1, y1, x2, y2) format where the regions will be taken from.\n",
    "        * **return**: (Tensor[N, K, C, output_size[0], output_size[1]]) The feature maps crops corresponding to the input rois.\n",
    "        \n",
    "        Parameters to RoiPool constructor:\n",
    "        :param output_size: (Tuple[int, int]) the size of the output after the cropping is performed, as (height, width)\n",
    "        :param spatial_scale: (float) a scaling factor that maps the input coordinates to the box coordinates. Default: 1.0\n",
    "        \"\"\"\n",
    "        super().__init__()\n",
    "        self.output_size = output_size\n",
    "        self.spatial_scale = spatial_scale\n",
    "        \n",
    "    @RunOnlyOnce\n",
    "    def _build_pytorch(self, features, rois):\n",
    "        pass\n",
    "        \n",
    "    def _call_pytorch(self, features, rois):\n",
    "        from torchvision.ops import roi_pool as _roi_pool\n",
    "        torchvision_rois = _convert_boxes_to_roi_format(rois)\n",
    "\n",
    "        result = _roi_pool(features, torchvision_rois, self.output_size, self.spatial_scale)\n",
    "\n",
    "        # Fix output shape\n",
    "        N, C, _, _ = features.shape\n",
    "        result = result.view((N, -1, C, self.output_size[0], self.output_size[1]))\n",
    "        return result\n",
    "\n",
    "    @RunOnlyOnce\n",
    "    def _build_tf(self, features, rois):\n",
    "        # TODO implement\n",
    "        raise NotImplementedError()\n",
    "        \n",
    "    def _call_tf(self, features, rois):\n",
    "        # TODO implement\n",
    "        raise NotImplementedError()"
   ]
  },
  {
   "cell_type": "code",
   "execution_count": 5,
   "metadata": {
    "tags": []
   },
   "outputs": [
    {
     "output_type": "stream",
     "name": "stdout",
     "text": "(2, 2, 4)\n(2, 3, 24, 24)\n(2, 2, 3, 7, 4)\n"
    }
   ],
   "source": [
    "from babilim.core.tensor import Tensor\n",
    "import numpy as np\n",
    "\n",
    "roi = RoiPool(output_size=(7, 4))\n",
    "tensor = Tensor(data=np.zeros((2,3,24,24), dtype=np.float32), trainable=False)\n",
    "rois = Tensor(data=np.array([[[0,0,12,12],[4,7,6,23]], [[0,0,12,12], [4,7,6,23]]], dtype=np.float32), trainable=False)\n",
    "\n",
    "print(rois.shape)\n",
    "print(tensor.shape)\n",
    "result = roi(tensor, rois)\n",
    "print(result.shape)"
   ]
  },
  {
   "cell_type": "code",
   "execution_count": 6,
   "metadata": {},
   "outputs": [],
   "source": [
    "#export\n",
    "class RoiAlign(ModuleNative):\n",
    "    def __init__(self, output_size, spatial_scale=1.0):\n",
    "        \"\"\"\n",
    "        Performs Region of Interest (RoI) Align operator described in Mask R-CNN.\n",
    "\n",
    "        Creates a callable object, when calling you can use these Arguments:\n",
    "        * **features**: (Tensor[N, C, H, W]) input tensor\n",
    "        * **rois**: (Tensor[N, K, 4]) the box coordinates in (x1, y1, x2, y2) format where the regions will be taken from.\n",
    "        * **return**: (Tensor[N, K, C, output_size[0], output_size[1]]) The feature maps crops corresponding to the input rois.\n",
    "        \n",
    "        Parameters to RoiAlign constructor:\n",
    "        :param output_size: (Tuple[int, int]) the size of the output after the cropping is performed, as (height, width)\n",
    "        :param spatial_scale: (float) a scaling factor that maps the input coordinates to the box coordinates. Default: 1.0\n",
    "        \"\"\"\n",
    "        super().__init__()\n",
    "        self.output_size = output_size\n",
    "        self.spatial_scale = spatial_scale\n",
    "        \n",
    "    @RunOnlyOnce\n",
    "    def _build_pytorch(self, features, rois):\n",
    "        pass\n",
    "        \n",
    "    def _call_pytorch(self, features, rois):\n",
    "        from torchvision.ops import roi_align as _roi_align\n",
    "        torchvision_rois = _convert_boxes_to_roi_format(rois)\n",
    "\n",
    "        # :param aligned: (bool) If False, use the legacy implementation.\n",
    "        #    If True, pixel shift it by -0.5 for align more perfectly about two neighboring pixel indices.\n",
    "        #    This version in Detectron2\n",
    "        result = _roi_align(features, torchvision_rois, self.output_size, self.spatial_scale, aligned=True)\n",
    "\n",
    "        # Fix output shape\n",
    "        N, C, _, _ = features.shape\n",
    "        result = result.view((N, -1, C, self.output_size[0], self.output_size[1]))\n",
    "        return result\n",
    "\n",
    "    @RunOnlyOnce\n",
    "    def _build_tf(self, features, rois):\n",
    "        # TODO implement\n",
    "        raise NotImplementedError()\n",
    "        \n",
    "    def _call_tf(self, features, rois):\n",
    "        # TODO implement\n",
    "        raise NotImplementedError()\n"
   ]
  },
  {
   "cell_type": "code",
   "execution_count": 7,
   "metadata": {
    "tags": []
   },
   "outputs": [
    {
     "output_type": "stream",
     "name": "stdout",
     "text": "(2, 2, 4)\n(2, 3, 24, 24)\n(2, 2, 3, 7, 4)\n"
    }
   ],
   "source": [
    "from babilim.core.tensor import Tensor\n",
    "import numpy as np\n",
    "\n",
    "roi = RoiAlign(output_size=(7, 4))\n",
    "tensor = Tensor(data=np.zeros((2,3,24,24), dtype=np.float32), trainable=False)\n",
    "rois = Tensor(data=np.array([[[0,0,12,12],[4,7,6,23]], [[0,0,12,12], [4,7,6,23]]], dtype=np.float32), trainable=False)\n",
    "\n",
    "print(rois.shape)\n",
    "print(tensor.shape)\n",
    "result = roi(tensor, rois)\n",
    "print(result.shape)"
   ]
  }
 ],
 "metadata": {
  "kernelspec": {
   "display_name": "Python 3.8.3 64-bit ('base': conda)",
   "language": "python",
   "name": "python38364bitbasecondae7cd72b7144542bdae788b1dbf27e222"
  },
  "language_info": {
   "codemirror_mode": {
    "name": "ipython",
    "version": 3
   },
   "file_extension": ".py",
   "mimetype": "text/x-python",
   "name": "python",
   "nbconvert_exporter": "python",
   "pygments_lexer": "ipython3",
   "version": "3.8.3-final"
  }
 },
 "nbformat": 4,
 "nbformat_minor": 4
}
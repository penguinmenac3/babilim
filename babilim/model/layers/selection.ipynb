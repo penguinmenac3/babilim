{
 "cells": [
  {
   "cell_type": "code",
   "execution_count": 1,
   "metadata": {},
   "outputs": [],
   "source": [
    "#convert"
   ]
  },
  {
   "cell_type": "markdown",
   "metadata": {},
   "source": [
    "# babilim.model.layers.selection\n",
    "\n",
    "> These layers select parts of a tensor."
   ]
  },
  {
   "cell_type": "code",
   "execution_count": 2,
   "metadata": {},
   "outputs": [],
   "source": [
    "#export\n",
    "from babilim.core.annotations import RunOnlyOnce\n",
    "from babilim.core.module_native import ModuleNative"
   ]
  },
  {
   "cell_type": "code",
   "execution_count": 3,
   "metadata": {},
   "outputs": [],
   "source": [
    "#export\n",
    "class Gather(ModuleNative):\n",
    "    def __init__(self):\n",
    "        \"\"\"\n",
    "        Gather tensors from one tensor by providing an index tensor.\n",
    "    \n",
    "        Created object is callable with the following parameters:\n",
    "        * **input_tensor**: (Tensor[N, L, ?]) The tensor from which to gather values at the given indices.\n",
    "        * **indices**: (Tensor[N, K]) The indices at which to return the values of the input tensor.\n",
    "        * **returns**: (Tensor[N, K, ?]) The tensor containing the values at the indices given.\n",
    "        \"\"\"\n",
    "        super().__init__()\n",
    "        \n",
    "    @RunOnlyOnce\n",
    "    def _build_pytorch(self, input_tensor, indices):\n",
    "        pass\n",
    "\n",
    "    def _call_pytorch(self, input_tensor, indices):\n",
    "        import torch\n",
    "        assert input_tensor.shape[0] == indices.shape[0]\n",
    "\n",
    "        # Then gather the indices along the batches.\n",
    "        return torch.stack([torch.index_select(input_tensor[i], 0, indices[i]) for i in range(indices.shape[0])])\n",
    "    \n",
    "    @RunOnlyOnce\n",
    "    def _build_tf(self, input_tensor, indices):\n",
    "        # TODO implement\n",
    "        raise NotImplementedError()\n",
    "        \n",
    "    def _call_tf(self, input_tensor, indices):\n",
    "        # TODO implement\n",
    "        raise NotImplementedError()"
   ]
  },
  {
   "cell_type": "code",
   "execution_count": 4,
   "metadata": {
    "tags": []
   },
   "outputs": [
    {
     "output_type": "stream",
     "name": "stdout",
     "text": "(2, 8, 3)\n(2, 2, 3)\n"
    }
   ],
   "source": [
    "from babilim.core.tensor import Tensor\n",
    "import numpy as np\n",
    "\n",
    "gather = Gather()\n",
    "tensor = Tensor(data=np.zeros((2,8,3), dtype=np.float32), trainable=False)\n",
    "indices = Tensor(data=np.array([[6,3], [1,2]]), trainable=False)\n",
    "\n",
    "print(tensor.shape)\n",
    "result = gather(tensor, indices.cast(\"int64\"))\n",
    "print(result.shape)"
   ]
  },
  {
   "cell_type": "code",
   "execution_count": 5,
   "metadata": {},
   "outputs": [],
   "source": [
    "#export\n",
    "class TopKIndices(ModuleNative):\n",
    "    def __init__(self, k):\n",
    "        \"\"\"\n",
    "        Returns the top k tensor indices (separate per batch).\n",
    "    \n",
    "        Created object is callable with the following parameters:\n",
    "        * **input_tensor**: (Tensor[N, L]) The tensor in which to search the top k indices.\n",
    "        * **returns**: (Tensor[N, K]) The tensor containing the indices of the top k values.\n",
    "        \n",
    "        Parameters for the constructor:\n",
    "        :param k: The number of indices to return per batch.\n",
    "        \"\"\"\n",
    "        super().__init__()\n",
    "        self.k = k\n",
    "        \n",
    "    @RunOnlyOnce\n",
    "    def _build_pytorch(self, input_tensor):\n",
    "        pass\n",
    "\n",
    "    def _call_pytorch(self, input_tensor):\n",
    "        import torch\n",
    "        return torch.topk(input_tensor, self.k).indices\n",
    "\n",
    "    @RunOnlyOnce\n",
    "    def _build_tf(self, input_tensor):\n",
    "        # TODO implement\n",
    "        raise NotImplementedError()\n",
    "        \n",
    "    def _call_tf(self, input_tensor):\n",
    "        # TODO implement\n",
    "        raise NotImplementedError()"
   ]
  },
  {
   "cell_type": "code",
   "execution_count": 6,
   "metadata": {
    "tags": []
   },
   "outputs": [
    {
     "output_type": "stream",
     "name": "stdout",
     "text": "(2, 8)\n(2, 3)\n"
    }
   ],
   "source": [
    "from babilim.core.tensor import Tensor\n",
    "import numpy as np\n",
    "\n",
    "top3 = TopKIndices(k=3)\n",
    "tensor = Tensor(data=np.zeros((2,8), dtype=np.float32), trainable=False)\n",
    "\n",
    "print(tensor.shape)\n",
    "result = top3(tensor)\n",
    "print(result.shape)"
   ]
  },
  {
   "cell_type": "code",
   "execution_count": null,
   "metadata": {},
   "outputs": [],
   "source": []
  }
 ],
 "metadata": {
  "kernelspec": {
   "display_name": "Python 3.8.3 64-bit ('base': conda)",
   "language": "python",
   "name": "python38364bitbasecondae7cd72b7144542bdae788b1dbf27e222"
  },
  "language_info": {
   "codemirror_mode": {
    "name": "ipython",
    "version": 3
   },
   "file_extension": ".py",
   "mimetype": "text/x-python",
   "name": "python",
   "nbconvert_exporter": "python",
   "pygments_lexer": "ipython3",
   "version": "3.8.3-final"
  }
 },
 "nbformat": 4,
 "nbformat_minor": 4
}
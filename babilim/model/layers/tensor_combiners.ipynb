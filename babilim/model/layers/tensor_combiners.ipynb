{
 "cells": [
  {
   "cell_type": "code",
   "execution_count": 1,
   "metadata": {},
   "outputs": [],
   "source": [
    "#convert"
   ]
  },
  {
   "cell_type": "markdown",
   "metadata": {},
   "source": [
    "# babilim.model.layers.tensor_combiners\n",
    "\n",
    "> Ways of combining tensors."
   ]
  },
  {
   "cell_type": "code",
   "execution_count": 2,
   "metadata": {},
   "outputs": [],
   "source": [
    "#export\n",
    "from babilim.core.annotations import RunOnlyOnce\n",
    "from babilim.core.module_native import ModuleNative"
   ]
  },
  {
   "cell_type": "code",
   "execution_count": 3,
   "metadata": {},
   "outputs": [],
   "source": [
    "#export\n",
    "class Stack(ModuleNative):\n",
    "    def __init__(self, axis):\n",
    "        \"\"\"\n",
    "        Stack layers along an axis.\n",
    "\n",
    "        Creates a callable object with the following signature:\n",
    "        * **tensor_list**: (List[Tensor]) The tensors that should be stacked. A list of length S containing Tensors.\n",
    "        * **return**: A tensor of shape [..., S, ...] where the position at which S is in the shape is equal to the axis.\n",
    "\n",
    "        Parameters of the constructor.\n",
    "        :param axis: (int) The axis along which the stacking happens.\n",
    "        \"\"\"\n",
    "        super().__init__()\n",
    "        self.axis = axis\n",
    "        \n",
    "    @RunOnlyOnce\n",
    "    def _build_pytorch(self, tensor_list):\n",
    "        pass\n",
    "        \n",
    "    def _call_pytorch(self, tensor_list):\n",
    "        import torch\n",
    "        return torch.stack(tensor_list, dim=self.axis)\n",
    "    \n",
    "    @RunOnlyOnce\n",
    "    def _build_tf(self, tensor_list):\n",
    "        pass\n",
    "        \n",
    "    def _call_tf(self, tensor_list):\n",
    "        import tensorflow as tf\n",
    "        return tf.stack(tensor_list, axis=self.axis)"
   ]
  },
  {
   "cell_type": "code",
   "execution_count": 4,
   "metadata": {
    "tags": []
   },
   "outputs": [
    {
     "output_type": "stream",
     "name": "stdout",
     "text": "(10, 8, 8, 3)\n(10, 8, 8, 3)\n(10, 2, 8, 8, 3)\n"
    }
   ],
   "source": [
    "from babilim.core.tensor import Tensor\n",
    "import numpy as np\n",
    "\n",
    "stack = Stack(axis=1)\n",
    "tensor1 = Tensor(data=np.zeros((10,8,8,3)), trainable=False)\n",
    "tensor2 = Tensor(data=np.zeros((10,8,8,3)), trainable=False)\n",
    "\n",
    "print(tensor1.shape)\n",
    "print(tensor2.shape)\n",
    "result = stack([tensor1, tensor2])\n",
    "print(result.shape)"
   ]
  },
  {
   "cell_type": "code",
   "execution_count": 5,
   "metadata": {},
   "outputs": [],
   "source": [
    "#export\n",
    "class Concat(ModuleNative):\n",
    "    def __init__(self, axis):\n",
    "        \"\"\"\n",
    "        Concatenate layers along an axis.\n",
    "\n",
    "        Creates a callable object with the following signature:\n",
    "        * **tensor_list**: (List[Tensor]) The tensors that should be stacked. A list of length S containing Tensors.\n",
    "        * **return**: A tensor of shape [..., S * inp_tensor.shape[axis], ...] where the position at which S is in the shape is equal to the axis.\n",
    "\n",
    "        Parameters of the constructor.\n",
    "        :param axis: (int) The axis along which the concatenation happens.\n",
    "        \"\"\"\n",
    "        super().__init__()\n",
    "        self.axis = axis\n",
    "        \n",
    "    @RunOnlyOnce\n",
    "    def _build_pytorch(self, tensor_list):\n",
    "        pass\n",
    "        \n",
    "    def _call_pytorch(self, tensor_list):\n",
    "        import torch\n",
    "        return torch.cat(tensor_list, dim=self.axis)\n",
    "    \n",
    "    @RunOnlyOnce\n",
    "    def _build_tf(self, tensor_list):\n",
    "        pass\n",
    "        \n",
    "    def _call_tf(self, tensor_list):\n",
    "        import tensorflow as tf\n",
    "        return tf.concat(tensor_list, axis=self.axis)"
   ]
  },
  {
   "cell_type": "code",
   "execution_count": 6,
   "metadata": {
    "tags": []
   },
   "outputs": [
    {
     "output_type": "stream",
     "name": "stdout",
     "text": "(10, 8, 8, 3)\n(10, 8, 8, 3)\n(10, 16, 8, 3)\n"
    }
   ],
   "source": [
    "from babilim.core.tensor import Tensor\n",
    "import numpy as np\n",
    "\n",
    "stack = Concat(axis=1)\n",
    "tensor1 = Tensor(data=np.zeros((10,8,8,3)), trainable=False)\n",
    "tensor2 = Tensor(data=np.zeros((10,8,8,3)), trainable=False)\n",
    "\n",
    "print(tensor1.shape)\n",
    "print(tensor2.shape)\n",
    "result = stack([tensor1, tensor2])\n",
    "print(result.shape)"
   ]
  }
 ],
 "metadata": {
  "kernelspec": {
   "display_name": "Python 3.8.3 64-bit ('base': conda)",
   "language": "python",
   "name": "python38364bitbasecondae7cd72b7144542bdae788b1dbf27e222"
  },
  "language_info": {
   "codemirror_mode": {
    "name": "ipython",
    "version": 3
   },
   "file_extension": ".py",
   "mimetype": "text/x-python",
   "name": "python",
   "nbconvert_exporter": "python",
   "pygments_lexer": "ipython3",
   "version": "3.8.3-final"
  }
 },
 "nbformat": 4,
 "nbformat_minor": 4
}

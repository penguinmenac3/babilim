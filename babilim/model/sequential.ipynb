{
 "cells": [
  {
   "cell_type": "code",
   "execution_count": 1,
   "metadata": {},
   "outputs": [],
   "source": [
    "#convert"
   ]
  },
  {
   "cell_type": "markdown",
   "metadata": {},
   "source": [
    "# babilim.model.sequential\n",
    "\n",
    "> Sequentially combine modules into a model."
   ]
  },
  {
   "cell_type": "code",
   "execution_count": 2,
   "metadata": {},
   "outputs": [],
   "source": [
    "#export\n",
    "from babilim.core.annotations import RunOnlyOnce\n",
    "from babilim.core.module import Module"
   ]
  },
  {
   "cell_type": "code",
   "execution_count": 3,
   "metadata": {},
   "outputs": [],
   "source": [
    "#export\n",
    "class Sequential(Module):\n",
    "    def __init__(self, *layers):\n",
    "        \"\"\"\n",
    "        Create a module which is a sequential order of other layers.\n",
    "    \n",
    "        Runs the layers in order.\n",
    "        \n",
    "        ```python\n",
    "        my_seq = Sequential(layer1, layer2, layer3)\n",
    "        ```\n",
    "        \n",
    "        :param layers: All ordered parameters are used as layers.\n",
    "        \"\"\"\n",
    "        super().__init__()\n",
    "        self.layers = layers\n",
    "\n",
    "    def call(self, features):\n",
    "        \"\"\"\n",
    "        Do not call this directly, use `__call__`:\n",
    "        ```\n",
    "        my_seq(features)\n",
    "        ```\n",
    "        \"\"\"\n",
    "        tmp = features\n",
    "        for layer in self.layers:\n",
    "            tmp = layer(tmp)\n",
    "        return tmp"
   ]
  },
  {
   "cell_type": "code",
   "execution_count": 4,
   "metadata": {
    "tags": []
   },
   "outputs": [
    {
     "output_type": "stream",
     "name": "stdout",
     "text": "(10, 8, 8, 3)\n(10, 3, 8, 3)\n"
    }
   ],
   "source": [
    "from babilim.core.tensor import Tensor\n",
    "from babilim.model.layers.convolution import Conv2D\n",
    "import numpy as np\n",
    "\n",
    "conv1 = Conv2D(filters=10, kernel_size=(1,1))\n",
    "conv2 = Conv2D(filters=3, kernel_size=(1,1))\n",
    "\n",
    "my_seq = Sequential(conv1, conv2)\n",
    "\n",
    "tensor = Tensor(data=np.zeros((10,8,8,3), dtype=np.float32), trainable=False)\n",
    "print(tensor.shape)\n",
    "result = my_seq(tensor)\n",
    "print(result.shape)"
   ]
  },
  {
   "cell_type": "code",
   "execution_count": null,
   "metadata": {},
   "outputs": [],
   "source": []
  }
 ],
 "metadata": {
  "kernelspec": {
   "display_name": "Python 3.8.3 64-bit ('base': conda)",
   "language": "python",
   "name": "python38364bitbasecondae7cd72b7144542bdae788b1dbf27e222"
  },
  "language_info": {
   "codemirror_mode": {
    "name": "ipython",
    "version": 3
   },
   "file_extension": ".py",
   "mimetype": "text/x-python",
   "name": "python",
   "nbconvert_exporter": "python",
   "pygments_lexer": "ipython3",
   "version": "3.8.3-final"
  }
 },
 "nbformat": 4,
 "nbformat_minor": 4
}

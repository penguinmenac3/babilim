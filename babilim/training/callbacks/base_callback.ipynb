{
 "cells": [
  {
   "cell_type": "code",
   "execution_count": 1,
   "metadata": {},
   "outputs": [],
   "source": [
    "#convert"
   ]
  },
  {
   "cell_type": "markdown",
   "metadata": {},
   "source": [
    "# babilim.training.callbacks.base_callback\n",
    "\n",
    "> A base callback every other callback inherits from this."
   ]
  },
  {
   "cell_type": "code",
   "execution_count": 2,
   "metadata": {},
   "outputs": [],
   "source": [
    "#export\n",
    "from babilim.core import ITensor\n",
    "from babilim.data import Dataloader\n",
    "from babilim.core.module import Module\n",
    "from babilim.training.losses import Loss\n",
    "from babilim.training.optimizers import Optimizer"
   ]
  },
  {
   "cell_type": "code",
   "execution_count": null,
   "metadata": {},
   "outputs": [],
   "source": [
    "#export\n",
    "class BaseCallback(object):\n",
    "    def __init__(self):\n",
    "        \"\"\"\n",
    "        Creates a new base callback.\n",
    "        \n",
    "        Callbacks are used to change the behaviour of trainers.\n",
    "        The callbacks are called as follows:\n",
    "        1. on_fit_start\n",
    "        2. on_epoch_begin\n",
    "        3. on_iter_begin\n",
    "        4. on_iter_end\n",
    "        5. on_epoch_end\n",
    "        6. on_fit_end\n",
    "        \n",
    "        The callbacks are of course repeated for each iter/epoch.\n",
    "        \n",
    "        In case of errors there are:\n",
    "        * on_fit_interrupted: For user interrupt.\n",
    "        * on_fit_failed: For any other error causing the fit to end.\n",
    "        \n",
    "        When deriving implement all functions you need and make sure to call the super versions at the top for begin/start functions and as the last line of your overwrite for end/error functions.\n",
    "        The super initializer must also be called at the top of your derived class.\n",
    "        \"\"\"\n",
    "        self.model = None\n",
    "        self.train_dataloader = None\n",
    "        self.dev_dataloader = None\n",
    "        self.loss = None\n",
    "        self.optimizer = None\n",
    "        self.epochs = None\n",
    "        self.phase = None\n",
    "        self.epoch = None\n",
    "        self.active_dataloader = None\n",
    "        self.iter = None\n",
    "        self.feature = None\n",
    "        self.target = None\n",
    "\n",
    "    def on_fit_start(self, model: Module, train_dataloader: Dataloader, dev_dataloader: Dataloader, loss: Loss, optimizer: Optimizer, start_epoch: int, epochs: int) -> int:\n",
    "        self.model = model\n",
    "        self.train_dataloader = train_dataloader\n",
    "        self.dev_dataloader = dev_dataloader\n",
    "        self.loss = loss\n",
    "        self.optimizer = optimizer\n",
    "        self.epochs = epochs\n",
    "        return start_epoch\n",
    "\n",
    "    def on_fit_end(self) -> None:\n",
    "        self.model = None\n",
    "        self.train_dataloader = None\n",
    "        self.dev_dataloader = None\n",
    "        self.loss = None\n",
    "        self.optimizer = None\n",
    "        self.epochs = None\n",
    "\n",
    "    def on_fit_interruted(self, exception) -> None:\n",
    "        return\n",
    "\n",
    "    def on_fit_failed(self, exception) -> None:\n",
    "        return\n",
    "\n",
    "    def on_epoch_begin(self, dataloader: Dataloader, phase: str, epoch: int) -> None:\n",
    "        self.active_dataloader = dataloader\n",
    "        self.phase = phase\n",
    "        self.epoch = epoch\n",
    "\n",
    "    def on_iter_begin(self, iter: int, feature, target) -> None:\n",
    "        self.iter = iter\n",
    "        self.feature = feature\n",
    "        self.target = target\n",
    "\n",
    "    def on_iter_end(self, predictions, loss_result: ITensor) -> None:\n",
    "        self.iter = None\n",
    "        self.feature = None\n",
    "        self.target = None\n",
    "\n",
    "    def on_epoch_end(self) -> None:\n",
    "        self.active_dataloader = None\n",
    "        self.phase = None\n",
    "        self.epoch = None\n"
   ]
  }
 ],
 "metadata": {
  "kernelspec": {
   "display_name": "Local (tf2)",
   "language": "python",
   "name": "tf2"
  },
  "language_info": {
   "codemirror_mode": {
    "name": "ipython",
    "version": 3
   },
   "file_extension": ".py",
   "mimetype": "text/x-python",
   "name": "python",
   "nbconvert_exporter": "python",
   "pygments_lexer": "ipython3",
   "version": "3.6.10"
  }
 },
 "nbformat": 4,
 "nbformat_minor": 4
}

{
 "cells": [
  {
   "cell_type": "code",
   "execution_count": 1,
   "metadata": {},
   "outputs": [],
   "source": [
    "#convert"
   ]
  },
  {
   "cell_type": "markdown",
   "metadata": {},
   "source": [
    "# babilim.training.optimizers.learning_rates\n",
    "\n",
    "> A package with all typical learning rate schedules."
   ]
  },
  {
   "cell_type": "code",
   "execution_count": 3,
   "metadata": {},
   "outputs": [],
   "source": [
    "#export\n",
    "import math\n",
    "from babilim.core.module import Module"
   ]
  },
  {
   "cell_type": "code",
   "execution_count": null,
   "metadata": {},
   "outputs": [],
   "source": [
    "#export\n",
    "class LearningRateSchedule(Module):\n",
    "    def __init__(self):\n",
    "        \"\"\"\n",
    "        An interface to a learning rate schedule.\n",
    "        \n",
    "        It must implement a `__call__(self, global_step: int) -> float` method which converts a global_step into the current lr.\n",
    "        \"\"\"\n",
    "        super().__init__()\n",
    "\n",
    "    def __call__(self, global_step: int) -> float:\n",
    "        raise NotImplementedError(\"Must be implemented by subclass.\")"
   ]
  },
  {
   "cell_type": "code",
   "execution_count": null,
   "metadata": {},
   "outputs": [],
   "source": [
    "#export\n",
    "class Const(LearningRateSchedule):\n",
    "    def __init__(self, lr: float):\n",
    "        \"\"\"\n",
    "        A constant learning rate.\n",
    "        \n",
    "        :param lr: The learning rate that should be set.\n",
    "        \"\"\"\n",
    "        super().__init__()\n",
    "        self.lr = lr\n",
    "\n",
    "    def __call__(self, global_step: int) -> float:\n",
    "        return self.lr\n",
    "\n",
    "    def __repr__(self):\n",
    "        return \"lr.Const(lr={})\".format(self.lr)\n",
    "\n",
    "    def __str__(self):\n",
    "        return \"lr.Const(lr={})\".format(self.lr)"
   ]
  },
  {
   "cell_type": "code",
   "execution_count": null,
   "metadata": {},
   "outputs": [],
   "source": [
    "#export\n",
    "class Exponential(LearningRateSchedule):\n",
    "    def __init__(self, initial_lr: float, k: float):\n",
    "        \"\"\"\n",
    "        Exponential learning rate decay.\n",
    "\n",
    "        lr = initial_lr * e^(-k * step)\n",
    "        \n",
    "        :param initial_lr: The learning rate from which is started.\n",
    "        :param k: The decay rate.\n",
    "        \"\"\"\n",
    "        super().__init__()\n",
    "        self.initial_lr = initial_lr\n",
    "        self.k = k\n",
    "\n",
    "    def __call__(self, global_step: int) -> float:\n",
    "        return self.initial_lr * math.exp(-self.k * global_step)\n",
    "\n",
    "    def __repr__(self):\n",
    "        return \"lr.Exponential(initial_lr={}, k={})\".format(self.initial_lr, self.k)\n",
    "\n",
    "    def __str__(self):\n",
    "        return \"lr.Exponential(initial_lr={}, k={})\".format(self.initial_lr, self.k)"
   ]
  },
  {
   "cell_type": "code",
   "execution_count": null,
   "metadata": {},
   "outputs": [],
   "source": [
    "#export\n",
    "class StepDecay(LearningRateSchedule):\n",
    "    def __init__(self, initial_lr: float, drop: float, steps_per_drop: int):\n",
    "        \"\"\"\n",
    "        A steped decay.\n",
    "        Multiply the learning rate by `drop` every `steps_per_drop`.\n",
    "\n",
    "        :param initial_lr: The learning rate with which should be started.\n",
    "        :param drop: By what the learning rate is multiplied every steps_per_drop steps.\n",
    "        :param steps_per_drop: How many steps should be done between drops.\n",
    "        \"\"\"\n",
    "        super().__init__()\n",
    "        self.initial_lr = initial_lr\n",
    "        self.drop = drop\n",
    "        self.steps_per_drop = steps_per_drop\n",
    "\n",
    "    def __call__(self, global_step: int) -> float:\n",
    "        return self.initial_lr * math.pow(self.drop, math.floor((1 + global_step) / self.steps_per_drop))\n",
    "\n",
    "    def __repr__(self):\n",
    "        return \"lr.StepDecay(initial_lr={}, drop={}, steps_per_drop={})\".format(self.initial_lr, self.drop,\n",
    "                                                                                self.steps_per_drop)\n",
    "\n",
    "    def __str__(self):\n",
    "        return \"lr.StepDecay(initial_lr={}, drop={}, steps_per_drop={})\".format(self.initial_lr, self.drop,\n",
    "                                                                                self.steps_per_drop)"
   ]
  }
 ],
 "metadata": {
  "kernelspec": {
   "display_name": "Local (tf2)",
   "language": "python",
   "name": "tf2"
  },
  "language_info": {
   "codemirror_mode": {
    "name": "ipython",
    "version": 3
   },
   "file_extension": ".py",
   "mimetype": "text/x-python",
   "name": "python",
   "nbconvert_exporter": "python",
   "pygments_lexer": "ipython3",
   "version": "3.6.10"
  }
 },
 "nbformat": 4,
 "nbformat_minor": 4
}

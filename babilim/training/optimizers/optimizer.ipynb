{
 "cells": [
  {
   "cell_type": "code",
   "execution_count": 1,
   "metadata": {},
   "outputs": [],
   "source": [
    "#convert"
   ]
  },
  {
   "cell_type": "markdown",
   "metadata": {},
   "source": [
    "# babilim.training.optimizers.optimizer\n",
    "\n",
    "> The optimizer interface."
   ]
  },
  {
   "cell_type": "code",
   "execution_count": 6,
   "metadata": {},
   "outputs": [],
   "source": [
    "#export\n",
    "from typing import Iterable\n",
    "from babilim.core.itensor import ITensor\n",
    "from babilim.core.module import Module\n",
    "from babilim.core import RunOnlyOnce"
   ]
  },
  {
   "cell_type": "code",
   "execution_count": 7,
   "metadata": {},
   "outputs": [],
   "source": [
    "#export\n",
    "class Optimizer(Module):\n",
    "    def __init__(self, initial_lr: float):\n",
    "        \"\"\"\n",
    "        An optimizer base class.\n",
    "        \n",
    "        :param initial_lr: The initial learning rate for the optimizer. Learning rates are updated in the optimizer via callbacks.\n",
    "        \"\"\"\n",
    "        super().__init__()\n",
    "        self.lr = initial_lr\n",
    "        \n",
    "    def call(self, gradients: Iterable[ITensor], variables: Iterable[ITensor]) -> None:\n",
    "        \"\"\"\n",
    "        Maps to `apply_gradients`.\n",
    "        \"\"\"\n",
    "        self.apply_gradients(gradients, variables)\n",
    "\n",
    "    def apply_gradients(self, gradients: Iterable[ITensor], variables: Iterable[ITensor]) -> None:\n",
    "        \"\"\"\n",
    "        This method applies the gradients to variables.\n",
    "\n",
    "        :param gradients: An iterable of the gradients.\n",
    "        :param variables: An iterable of the variables to which the gradients should be applied (in the same order as gradients).\n",
    "        \"\"\"\n",
    "        raise NotImplementedError(\"Apply gradients must be implemented by every optimizer.\")"
   ]
  },
  {
   "cell_type": "code",
   "execution_count": 8,
   "metadata": {},
   "outputs": [],
   "source": [
    "#export\n",
    "class NativePytorchOptimizerWrapper(Optimizer):\n",
    "    def __init__(self, optimizer_class, initial_lr, **kwargs):\n",
    "        \"\"\"\n",
    "        Wrap a native pytorch optimizer as a babilim optimizer.\n",
    "\n",
    "        :param optimizer_class: The class which should be wrapped (not an instance).\n",
    "         For example \"optimizer_class=torch.optim.SGD\".\n",
    "        :param model: The model that is used (instance of type IModel).\n",
    "        :param kwargs: The arguments for the optimizer on initialization.\n",
    "        \"\"\"\n",
    "        super().__init__(initial_lr)\n",
    "        self.optimizer_class = optimizer_class\n",
    "        self.kwargs = kwargs\n",
    "        self.optim = None\n",
    "\n",
    "    @RunOnlyOnce\n",
    "    def build(self, gradients: Iterable[ITensor], variables: Iterable[ITensor]):\n",
    "        \"\"\"\n",
    "        Build the optimizer. Automatically is called when apply_gradients is called for the first time.\n",
    "        \n",
    "        :param gradients: An iterable of the gradients.\n",
    "        :param variables: An iterable of the variables to which the gradients should be applied (in the same order as gradients).\n",
    "        \"\"\"\n",
    "        self.optim = self.optimizer_class([var.native for var in variables], lr=self.lr, **self.kwargs)\n",
    "\n",
    "    def apply_gradients(self, gradients: Iterable[ITensor], variables: Iterable[ITensor]) -> None:\n",
    "        \"\"\"\n",
    "        This method applies the gradients to variables.\n",
    "\n",
    "        :param gradients: An iterable of the gradients.\n",
    "        :param variables: An iterable of the variables to which the gradients should be applied (in the same order as gradients).\n",
    "        \"\"\"\n",
    "        self.build(gradients, variables)\n",
    "        for param_group in self.optim.param_groups:\n",
    "            param_group['lr'] = self.lr\n",
    "        self.optim.step()"
   ]
  },
  {
   "cell_type": "code",
   "execution_count": null,
   "metadata": {},
   "outputs": [],
   "source": []
  }
 ],
 "metadata": {
  "kernelspec": {
   "display_name": "Local (tf2)",
   "language": "python",
   "name": "tf2"
  },
  "language_info": {
   "codemirror_mode": {
    "name": "ipython",
    "version": 3
   },
   "file_extension": ".py",
   "mimetype": "text/x-python",
   "name": "python",
   "nbconvert_exporter": "python",
   "pygments_lexer": "ipython3",
   "version": "3.6.10"
  }
 },
 "nbformat": 4,
 "nbformat_minor": 4
}

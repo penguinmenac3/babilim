{
 "cells": [
  {
   "cell_type": "code",
   "execution_count": 1,
   "metadata": {},
   "outputs": [],
   "source": [
    "#convert"
   ]
  },
  {
   "cell_type": "markdown",
   "metadata": {},
   "source": [
    "# babilim.training.optimizers.sgd\n",
    "\n",
    "> Common stochastic gradient descent optimizer."
   ]
  },
  {
   "cell_type": "code",
   "execution_count": 2,
   "metadata": {},
   "outputs": [],
   "source": [
    "#export\n",
    "from typing import Iterable\n",
    "from babilim.core.itensor import ITensor\n",
    "from babilim.training.optimizers.optimizer import Optimizer"
   ]
  },
  {
   "cell_type": "code",
   "execution_count": null,
   "metadata": {},
   "outputs": [],
   "source": [
    "#export\n",
    "class SGD(Optimizer):\n",
    "    def __init__(self, initial_lr: float, momentum: float=0.95, dampening: float=0.0, weight_decay: float=0, nesterov: bool=True):\n",
    "        \"\"\"\n",
    "        Common stochastic gradient descent optimizer.\n",
    "        \n",
    "        :param initial_lr: The initial learning rate for the optimizer. Learning rates are updated in the optimizer via callbacks.\n",
    "        :param momentum: Value between 0 and 1 representing the momentum of the old grads to keep.\n",
    "        :param dampening: Value between 0 and 1 representing by how much the accumulated gradients should be dampened.\n",
    "        :param weight_decay: Value between 0 and 1 representing by how much the new gradients should be reduced.\n",
    "        :param nesterov: If nesterov momentum should be used.\n",
    "        \"\"\"\n",
    "        super().__init__(initial_lr)\n",
    "        self.momentum = momentum\n",
    "        self.weight_decay = weight_decay\n",
    "        self.nesterov = nesterov\n",
    "        self.dampening = dampening\n",
    "        self.state = {}\n",
    "\n",
    "    def apply_gradients(self, gradients: Iterable[ITensor], variables: Iterable[ITensor]) -> None:\n",
    "        \"\"\"\n",
    "        This method applies the gradients to variables.\n",
    "\n",
    "        :param gradients: An iterable of the gradients.\n",
    "        :param variables: An iterable of the variables to which the gradients should be applied (in the same order as gradients).\n",
    "        :param learning_rate: The learning rate which is currently used.\n",
    "        \"\"\"\n",
    "        for grad, var in zip(gradients, variables):\n",
    "            if grad is None:\n",
    "                continue\n",
    "            d_p = grad\n",
    "            if self.weight_decay != 0:\n",
    "                d_p += var * self.weight_decay\n",
    "            if self.momentum != 0:\n",
    "                if var.ref() not in self.state:\n",
    "                    buf = self.state[var.ref()] = d_p.copy()\n",
    "                else:\n",
    "                    buf = self.state[var.ref()]\n",
    "                    buf *= self.momentum\n",
    "                    buf += d_p * (1 - self.dampening)\n",
    "                if self.nesterov:\n",
    "                    d_p += buf * self.momentum\n",
    "                else:\n",
    "                    d_p = buf\n",
    "\n",
    "            var -= d_p * self.lr"
   ]
  }
 ],
 "metadata": {
  "kernelspec": {
   "display_name": "Local (tf2)",
   "language": "python",
   "name": "tf2"
  },
  "language_info": {
   "codemirror_mode": {
    "name": "ipython",
    "version": 3
   },
   "file_extension": ".py",
   "mimetype": "text/x-python",
   "name": "python",
   "nbconvert_exporter": "python",
   "pygments_lexer": "ipython3",
   "version": "3.6.10"
  }
 },
 "nbformat": 4,
 "nbformat_minor": 4
}

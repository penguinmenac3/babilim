{
 "cells": [
  {
   "cell_type": "code",
   "execution_count": 1,
   "metadata": {},
   "outputs": [],
   "source": [
    "#convert"
   ]
  },
  {
   "cell_type": "markdown",
   "metadata": {},
   "source": [
    "# babilim.training.trainer\n",
    "\n",
    "> Every trainer implements the trainer interface."
   ]
  },
  {
   "cell_type": "code",
   "execution_count": 3,
   "metadata": {},
   "outputs": [],
   "source": [
    "#export\n",
    "from babilim.data import Dataloader"
   ]
  },
  {
   "cell_type": "code",
   "execution_count": null,
   "metadata": {},
   "outputs": [],
   "source": [
    "#export\n",
    "class Trainer(object):\n",
    "    def __init__(self):\n",
    "        \"\"\"\n",
    "        A trainer is a general interface for training models.\n",
    "        \n",
    "        **You must not not instantiate this directly, instead use implementations of trainers.**\n",
    "        \"\"\"\n",
    "        raise RuntimeError(\"You must not instantiate this class directly.\")\n",
    "    \n",
    "    def run_epoch(self, dataloader: Dataloader, phase: str, epoch: int):\n",
    "        \"\"\"\n",
    "        Run an epoch in training or validation.\n",
    "\n",
    "        (This function is called in fit and it is NOT RECOMMENDED to use this function from outside.)\n",
    "\n",
    "        Optimizer is \"optional\" if it is set to None, it is a validation run otherwise it is a training run.\n",
    "\n",
    "        :param dataloader: The dataloader created from a dataset.\n",
    "        :param phase: The phase (train/dev/test) which is used for running.\n",
    "        :param epoch: The epoch number.\n",
    "        :return: Returns the average loss.\n",
    "        \"\"\"\n",
    "        raise NotImplementedError()\n",
    "\n",
    "    def fit(self, train_dataloader: Dataloader, dev_dataloader: Dataloader, epochs: int):\n",
    "        \"\"\"\n",
    "        Fit the model managed by this trainer to the data.\n",
    "\n",
    "        :param train_dataloader: The dataloader for training your neural network (train split).\n",
    "        :param dev_dataloader: The dataloader for validation during your development (dev split). NOT TEST SPLIT!\n",
    "        :param epochs: The number of epochs describes how often the fit will iterate over the dataloaders.\n",
    "        \"\"\"\n",
    "        raise NotImplementedError()"
   ]
  }
 ],
 "metadata": {
  "kernelspec": {
   "display_name": "Local (tf2)",
   "language": "python",
   "name": "tf2"
  },
  "language_info": {
   "codemirror_mode": {
    "name": "ipython",
    "version": 3
   },
   "file_extension": ".py",
   "mimetype": "text/x-python",
   "name": "python",
   "nbconvert_exporter": "python",
   "pygments_lexer": "ipython3",
   "version": "3.6.10"
  }
 },
 "nbformat": 4,
 "nbformat_minor": 4
}
